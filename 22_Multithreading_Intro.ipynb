{
 "cells": [
  {
   "cell_type": "markdown",
   "metadata": {},
   "source": [
    "## Multitasking\n",
    "\n",
    "* ### executing multiple tasks at a time .\n",
    "* * #### 1. `PROCESS BASED MULTITASKING.(or Multiprocessing)`\n",
    "* * #### 2. `THREAD BASED MULTITASKING. (or Multithreding)`"
   ]
  },
  {
   "cell_type": "markdown",
   "metadata": {},
   "source": [
    "### Main Thread\n",
    "PVM : python virtual mch"
   ]
  },
  {
   "cell_type": "code",
   "execution_count": 2,
   "metadata": {},
   "outputs": [
    {
     "name": "stdout",
     "output_type": "stream",
     "text": [
      "hello  0\n",
      "MainThread\n",
      "hello  1\n",
      "MainThread\n",
      "hello  2\n",
      "MainThread\n",
      "hello  3\n",
      "MainThread\n",
      "hello  4\n",
      "MainThread\n"
     ]
    }
   ],
   "source": [
    "from threading import current_thread\n",
    "\n",
    "for i in range(5):\n",
    "    print(\"hello \",i)\n",
    "    t = current_thread().getName()\n",
    "    print(t)"
   ]
  },
  {
   "cell_type": "code",
   "execution_count": null,
   "metadata": {},
   "outputs": [],
   "source": [
    "Thread :"
   ]
  },
  {
   "cell_type": "code",
   "execution_count": null,
   "metadata": {},
   "outputs": [],
   "source": []
  },
  {
   "cell_type": "code",
   "execution_count": 14,
   "metadata": {},
   "outputs": [
    {
     "name": "stdout",
     "output_type": "stream",
     "text": [
      "Hello\n",
      "MainThread\n",
      "\n",
      "Thread-11\n"
     ]
    }
   ],
   "source": [
    "# 1  \n",
    "from threading import Thread ,current_thread\n",
    "def show():\n",
    "    print(\"Hello\")\n",
    "    print(current_thread().getName())\n",
    "    \n",
    "th = Thread(target = show)\n",
    "th.start()\n",
    "print()\n",
    "#print(current_thread().getName())"
   ]
  },
  {
   "cell_type": "code",
   "execution_count": 20,
   "metadata": {},
   "outputs": [
    {
     "name": "stdout",
     "output_type": "stream",
     "text": [
      "Hello\n",
      " Thread-16\n",
      "Hello Thread-16\n",
      "Hello Thread-16\n",
      "Hello Thread-16\n",
      "Hello Thread-16\n",
      "Main_Thread MainThread\n",
      "Main_Thread MainThread\n",
      "Main_Thread MainThread\n",
      "Main_Thread MainThread\n",
      "Main_Thread MainThread\n"
     ]
    }
   ],
   "source": [
    "from threading import Thread ,current_thread\n",
    "def show():\n",
    "    for i in range(5):\n",
    "        print(\"Hello\",current_thread().getName())\n",
    "    \n",
    "th = Thread(target = show)\n",
    "th.start()\n",
    "print()\n",
    "for i in  range(5):\n",
    "    print(\"Main_Thread\",current_thread().getName())"
   ]
  },
  {
   "cell_type": "code",
   "execution_count": 23,
   "metadata": {},
   "outputs": [
    {
     "name": "stdout",
     "output_type": "stream",
     "text": [
      "1\n",
      "Main_Thread MainThread\n",
      "Main_Thread MainThread\n",
      "Main_Thread MainThread\n",
      "Main_Thread MainThread\n",
      "Main_Thread MainThread\n",
      " 2 my_THREAD\n",
      "1 2 my_THREAD\n",
      "1 2 my_THREAD\n",
      "1 2 my_THREAD\n",
      "1 2 my_THREAD\n"
     ]
    }
   ],
   "source": [
    "from threading import Thread ,current_thread\n",
    "def show(a,b):\n",
    "    for i in range(5):\n",
    "        print(a,b,current_thread().getName())\n",
    "    \n",
    "th = Thread(target = show,args=(1,2),name = \"my_THREAD\")\n",
    "th.start()\n",
    "print()\n",
    "for i in  range(5):\n",
    "    print(\"Main_Thread\",current_thread().getName())"
   ]
  },
  {
   "cell_type": "code",
   "execution_count": 24,
   "metadata": {},
   "outputs": [
    {
     "name": "stdout",
     "output_type": "stream",
     "text": [
      "1 2 THHHH\n",
      "1 2 THHHH\n",
      "1 2 THHHH\n",
      "1 2 THHHH\n",
      "1 2 THHHH\n"
     ]
    }
   ],
   "source": [
    "# renaming thread\n",
    "from threading import Thread ,current_thread\n",
    "def show(a,b):\n",
    "    for i in range(5):\n",
    "        current_thread().setName(\"THHHH\")\n",
    "        print(a,b,current_thread().getName())\n",
    "    \n",
    "th = Thread(target = show,args=(1,2))\n",
    "\n",
    "th.start()\n"
   ]
  },
  {
   "cell_type": "code",
   "execution_count": 25,
   "metadata": {},
   "outputs": [
    {
     "name": "stdout",
     "output_type": "stream",
     "text": [
      "1 2 HHHH\n",
      "1 2 HHHH\n",
      "1 2 HHHH\n",
      "1 2 HHHH\n",
      "1 2 HHHH\n"
     ]
    }
   ],
   "source": [
    "# renaming thread\n",
    "from threading import Thread ,current_thread\n",
    "def show(a,b):\n",
    "    for i in range(5):\n",
    "        current_thread().name = \"HHHH\"\n",
    "        print(a,b,current_thread().name)\n",
    "    \n",
    "th = Thread(target = show,args=(1,2))\n",
    "\n",
    "th.start()"
   ]
  },
  {
   "cell_type": "code",
   "execution_count": 28,
   "metadata": {},
   "outputs": [
    {
     "name": "stdout",
     "output_type": "stream",
     "text": [
      "1 2 my_THREAD\n",
      "1 2 my_THREAD\n",
      "1 2 my_THREAD\n",
      "1 2 my_THREAD\n",
      "1 2 my_THREAD\n",
      "Main_Thread MainThread\n",
      "Main_Thread MainThread\n",
      "Main_Thread MainThread\n",
      "Main_Thread MainThread\n",
      "Main_Thread MainThread\n"
     ]
    }
   ],
   "source": [
    "from threading import Thread ,current_thread\n",
    "def show(a,b):\n",
    "    for i in range(5):\n",
    "        print(a,b,current_thread().getName())\n",
    "    \n",
    "th = Thread(target = show,args=(1,2),name = \"my_THREAD\")\n",
    "th.start()\n",
    "th.join()\n",
    "for i in  range(5):\n",
    "    print(\"Main_Thread\",current_thread().getName())"
   ]
  },
  {
   "cell_type": "markdown",
   "metadata": {},
   "source": [
    "##  Creating a thread by inheritence"
   ]
  },
  {
   "cell_type": "code",
   "execution_count": 34,
   "metadata": {},
   "outputs": [
    {
     "name": "stdout",
     "output_type": "stream",
     "text": [
      "Help on class Thread in module threading:\n",
      "\n",
      "class Thread(builtins.object)\n",
      " |  Thread(group=None, target=None, name=None, args=(), kwargs=None, *, daemon=None)\n",
      " |  \n",
      " |  A class that represents a thread of control.\n",
      " |  \n",
      " |  This class can be safely subclassed in a limited fashion. There are two ways\n",
      " |  to specify the activity: by passing a callable object to the constructor, or\n",
      " |  by overriding the run() method in a subclass.\n",
      " |  \n",
      " |  Methods defined here:\n",
      " |  \n",
      " |  __init__(self, group=None, target=None, name=None, args=(), kwargs=None, *, daemon=None)\n",
      " |      This constructor should always be called with keyword arguments. Arguments are:\n",
      " |      \n",
      " |      *group* should be None; reserved for future extension when a ThreadGroup\n",
      " |      class is implemented.\n",
      " |      \n",
      " |      *target* is the callable object to be invoked by the run()\n",
      " |      method. Defaults to None, meaning nothing is called.\n",
      " |      \n",
      " |      *name* is the thread name. By default, a unique name is constructed of\n",
      " |      the form \"Thread-N\" where N is a small decimal number.\n",
      " |      \n",
      " |      *args* is the argument tuple for the target invocation. Defaults to ().\n",
      " |      \n",
      " |      *kwargs* is a dictionary of keyword arguments for the target\n",
      " |      invocation. Defaults to {}.\n",
      " |      \n",
      " |      If a subclass overrides the constructor, it must make sure to invoke\n",
      " |      the base class constructor (Thread.__init__()) before doing anything\n",
      " |      else to the thread.\n",
      " |  \n",
      " |  __repr__(self)\n",
      " |      Return repr(self).\n",
      " |  \n",
      " |  getName(self)\n",
      " |  \n",
      " |  isDaemon(self)\n",
      " |  \n",
      " |  is_alive(self)\n",
      " |      Return whether the thread is alive.\n",
      " |      \n",
      " |      This method returns True just before the run() method starts until just\n",
      " |      after the run() method terminates. The module function enumerate()\n",
      " |      returns a list of all alive threads.\n",
      " |  \n",
      " |  join(self, timeout=None)\n",
      " |      Wait until the thread terminates.\n",
      " |      \n",
      " |      This blocks the calling thread until the thread whose join() method is\n",
      " |      called terminates -- either normally or through an unhandled exception\n",
      " |      or until the optional timeout occurs.\n",
      " |      \n",
      " |      When the timeout argument is present and not None, it should be a\n",
      " |      floating point number specifying a timeout for the operation in seconds\n",
      " |      (or fractions thereof). As join() always returns None, you must call\n",
      " |      is_alive() after join() to decide whether a timeout happened -- if the\n",
      " |      thread is still alive, the join() call timed out.\n",
      " |      \n",
      " |      When the timeout argument is not present or None, the operation will\n",
      " |      block until the thread terminates.\n",
      " |      \n",
      " |      A thread can be join()ed many times.\n",
      " |      \n",
      " |      join() raises a RuntimeError if an attempt is made to join the current\n",
      " |      thread as that would cause a deadlock. It is also an error to join() a\n",
      " |      thread before it has been started and attempts to do so raises the same\n",
      " |      exception.\n",
      " |  \n",
      " |  run(self)\n",
      " |      Method representing the thread's activity.\n",
      " |      \n",
      " |      You may override this method in a subclass. The standard run() method\n",
      " |      invokes the callable object passed to the object's constructor as the\n",
      " |      target argument, if any, with sequential and keyword arguments taken\n",
      " |      from the args and kwargs arguments, respectively.\n",
      " |  \n",
      " |  setDaemon(self, daemonic)\n",
      " |  \n",
      " |  setName(self, name)\n",
      " |  \n",
      " |  start(self)\n",
      " |      Start the thread's activity.\n",
      " |      \n",
      " |      It must be called at most once per thread object. It arranges for the\n",
      " |      object's run() method to be invoked in a separate thread of control.\n",
      " |      \n",
      " |      This method will raise a RuntimeError if called more than once on the\n",
      " |      same thread object.\n",
      " |  \n",
      " |  ----------------------------------------------------------------------\n",
      " |  Readonly properties defined here:\n",
      " |  \n",
      " |  ident\n",
      " |      Thread identifier of this thread or None if it has not been started.\n",
      " |      \n",
      " |      This is a nonzero integer. See the get_ident() function. Thread\n",
      " |      identifiers may be recycled when a thread exits and another thread is\n",
      " |      created. The identifier is available even after the thread has exited.\n",
      " |  \n",
      " |  native_id\n",
      " |      Native integral thread ID of this thread, or None if it has not been started.\n",
      " |      \n",
      " |      This is a non-negative integer. See the get_native_id() function.\n",
      " |      This represents the Thread ID as reported by the kernel.\n",
      " |  \n",
      " |  ----------------------------------------------------------------------\n",
      " |  Data descriptors defined here:\n",
      " |  \n",
      " |  __dict__\n",
      " |      dictionary for instance variables (if defined)\n",
      " |  \n",
      " |  __weakref__\n",
      " |      list of weak references to the object (if defined)\n",
      " |  \n",
      " |  daemon\n",
      " |      A boolean value indicating whether this thread is a daemon thread.\n",
      " |      \n",
      " |      This must be set before start() is called, otherwise RuntimeError is\n",
      " |      raised. Its initial value is inherited from the creating thread; the\n",
      " |      main thread is not a daemon thread and therefore all threads created in\n",
      " |      the main thread default to daemon = False.\n",
      " |      \n",
      " |      The entire Python program exits when only daemon threads are left.\n",
      " |  \n",
      " |  name\n",
      " |      A string used for identification purposes only.\n",
      " |      \n",
      " |      It has no semantics. Multiple threads may be given the same name. The\n",
      " |      initial name is set by the constructor.\n",
      "\n"
     ]
    }
   ],
   "source": [
    "help(Thread)"
   ]
  },
  {
   "cell_type": "code",
   "execution_count": 29,
   "metadata": {},
   "outputs": [],
   "source": [
    "from threading import Thread,current_thread\n"
   ]
  },
  {
   "cell_type": "code",
   "execution_count": 32,
   "metadata": {},
   "outputs": [
    {
     "name": "stdout",
     "output_type": "stream",
     "text": [
      "MYth Thread-21\n"
     ]
    }
   ],
   "source": [
    "class MYth(Thread):\n",
    "    def run(self):\n",
    "        print(\"MYth\",current_thread().name)\n",
    "\n",
    "t = MYth()\n",
    "t.start()"
   ]
  },
  {
   "cell_type": "markdown",
   "metadata": {},
   "source": [
    "##  Creating a thread by inheritence with constructors"
   ]
  },
  {
   "cell_type": "code",
   "execution_count": 33,
   "metadata": {},
   "outputs": [
    {
     "name": "stdout",
     "output_type": "stream",
     "text": [
      "MainThread\n"
     ]
    },
    {
     "ename": "RuntimeError",
     "evalue": "thread.__init__() not called",
     "output_type": "error",
     "traceback": [
      "\u001b[1;31m-----------------------------------------------------------------------\u001b[0m",
      "\u001b[1;31mRuntimeError\u001b[0m                          Traceback (most recent call last)",
      "\u001b[1;32m<ipython-input-33-f19882c05a8d>\u001b[0m in \u001b[0;36m<module>\u001b[1;34m\u001b[0m\n\u001b[0;32m      7\u001b[0m \u001b[1;33m\u001b[0m\u001b[0m\n\u001b[0;32m      8\u001b[0m \u001b[0mt\u001b[0m \u001b[1;33m=\u001b[0m \u001b[0mMYth\u001b[0m\u001b[1;33m(\u001b[0m\u001b[1;33m)\u001b[0m\u001b[1;33m\u001b[0m\u001b[1;33m\u001b[0m\u001b[0m\n\u001b[1;32m----> 9\u001b[1;33m \u001b[0mt\u001b[0m\u001b[1;33m.\u001b[0m\u001b[0mstart\u001b[0m\u001b[1;33m(\u001b[0m\u001b[1;33m)\u001b[0m\u001b[1;33m\u001b[0m\u001b[1;33m\u001b[0m\u001b[0m\n\u001b[0m",
      "\u001b[1;32mc:\\users\\admin\\appdata\\local\\programs\\python\\python39\\lib\\threading.py\u001b[0m in \u001b[0;36mstart\u001b[1;34m(self)\u001b[0m\n\u001b[0;32m    864\u001b[0m         \"\"\"\n\u001b[0;32m    865\u001b[0m         \u001b[1;32mif\u001b[0m \u001b[1;32mnot\u001b[0m \u001b[0mself\u001b[0m\u001b[1;33m.\u001b[0m\u001b[0m_initialized\u001b[0m\u001b[1;33m:\u001b[0m\u001b[1;33m\u001b[0m\u001b[1;33m\u001b[0m\u001b[0m\n\u001b[1;32m--> 866\u001b[1;33m             \u001b[1;32mraise\u001b[0m \u001b[0mRuntimeError\u001b[0m\u001b[1;33m(\u001b[0m\u001b[1;34m\"thread.__init__() not called\"\u001b[0m\u001b[1;33m)\u001b[0m\u001b[1;33m\u001b[0m\u001b[1;33m\u001b[0m\u001b[0m\n\u001b[0m\u001b[0;32m    867\u001b[0m \u001b[1;33m\u001b[0m\u001b[0m\n\u001b[0;32m    868\u001b[0m         \u001b[1;32mif\u001b[0m \u001b[0mself\u001b[0m\u001b[1;33m.\u001b[0m\u001b[0m_started\u001b[0m\u001b[1;33m.\u001b[0m\u001b[0mis_set\u001b[0m\u001b[1;33m(\u001b[0m\u001b[1;33m)\u001b[0m\u001b[1;33m:\u001b[0m\u001b[1;33m\u001b[0m\u001b[1;33m\u001b[0m\u001b[0m\n",
      "\u001b[1;31mRuntimeError\u001b[0m: thread.__init__() not called"
     ]
    }
   ],
   "source": [
    "class MYth(Thread):\n",
    "    def __init__(self):\n",
    "        print(current_thread().name)\n",
    "        \n",
    "    def run(self):\n",
    "        print(\"MYth\",current_thread().name)\n",
    "\n",
    "t = MYth()\n",
    "t.start()"
   ]
  },
  {
   "cell_type": "code",
   "execution_count": 35,
   "metadata": {},
   "outputs": [
    {
     "name": "stdout",
     "output_type": "stream",
     "text": [
      "MainThread\n",
      "MYth Thread-22\n"
     ]
    }
   ],
   "source": [
    "class MYth(Thread):\n",
    "    def __init__(self):\n",
    "        Thread.__init__(self)\n",
    "        print(current_thread().name)\n",
    "        \n",
    "    def run(self):\n",
    "        print(\"MYth\",current_thread().name)\n",
    "\n",
    "t = MYth()\n",
    "t.start()"
   ]
  },
  {
   "cell_type": "markdown",
   "metadata": {},
   "source": [
    "## Creating thread without creating child of Thread class and without override run method"
   ]
  },
  {
   "cell_type": "code",
   "execution_count": 39,
   "metadata": {},
   "outputs": [
    {
     "name": "stdout",
     "output_type": "stream",
     "text": [
      "show MainThread\n"
     ]
    }
   ],
   "source": [
    "class MYth:\n",
    "    def show(self):\n",
    "        print(\"show\",current_thread().name)\n",
    "\n",
    "obj = MYth()\n",
    "obj.show()\n"
   ]
  },
  {
   "cell_type": "code",
   "execution_count": 41,
   "metadata": {},
   "outputs": [
    {
     "name": "stdout",
     "output_type": "stream",
     "text": [
      "show Myth\n"
     ]
    }
   ],
   "source": [
    "class MYth:\n",
    "    def show(self):\n",
    "        print(\"show\",current_thread().name)\n",
    "\n",
    "obj = MYth()\n",
    "\n",
    "th = Thread(target=obj.show)\n",
    "th.start()"
   ]
  },
  {
   "cell_type": "markdown",
   "metadata": {},
   "source": [
    "###  multiple task through single thread"
   ]
  },
  {
   "cell_type": "code",
   "execution_count": 43,
   "metadata": {},
   "outputs": [],
   "source": [
    "class Exam:\n",
    "    def Solve(self):\n",
    "        self.Q1()\n",
    "        self.Q2()\n",
    "        self.Q3()\n",
    "        self.Q4()\n",
    "    def Q1(self):\n",
    "        print(\"Q1\",current_thread().name)\n",
    "    def Q2(self):\n",
    "        print(\"Q2\",current_thread().name)\n",
    "    def Q3(self):\n",
    "        print(\"Q3\",current_thread().name)\n",
    "    def Q4(self):\n",
    "        print(\"Q4\",current_thread().name)\n",
    "    "
   ]
  },
  {
   "cell_type": "code",
   "execution_count": 44,
   "metadata": {},
   "outputs": [],
   "source": [
    "obj=Exam()"
   ]
  },
  {
   "cell_type": "code",
   "execution_count": 45,
   "metadata": {},
   "outputs": [
    {
     "name": "stdout",
     "output_type": "stream",
     "text": [
      "Q1 Thread-25\n",
      "Q2 Thread-25\n",
      "Q3 Thread-25\n",
      "Q4 Thread-25\n"
     ]
    }
   ],
   "source": [
    "th1 = Thread(target=obj.Solve)\n",
    "th1.start()"
   ]
  },
  {
   "cell_type": "code",
   "execution_count": 46,
   "metadata": {},
   "outputs": [],
   "source": [
    "class Exam:\n",
    "    def Solve(self):\n",
    "        self.Q1()\n",
    "        self.Q2()\n",
    "        self.Q3()\n",
    "        self.Q4()\n",
    "    def Q1(self):\n",
    "        print(\"Q1\",current_thread().name)\n",
    "    def Q2(self):\n",
    "        print(\"Q2\",current_thread().name)\n",
    "    def Q3(self):\n",
    "        print(\"Q3\",current_thread().name)\n",
    "    def Q4(self):\n",
    "        print(\"Q4\",current_thread().name)"
   ]
  },
  {
   "cell_type": "code",
   "execution_count": 47,
   "metadata": {},
   "outputs": [],
   "source": [
    "obj=Exam()"
   ]
  },
  {
   "cell_type": "code",
   "execution_count": 48,
   "metadata": {},
   "outputs": [
    {
     "name": "stdout",
     "output_type": "stream",
     "text": [
      "Q1 Q2 Thread-26\n",
      "Thread-27\n",
      "Q3 Thread-28\n",
      "Q4 Thread-29\n"
     ]
    }
   ],
   "source": [
    "th1 = Thread(target=obj.Q1)\n",
    "th2 = Thread(target=obj.Q2)\n",
    "th3 = Thread(target=obj.Q3)\n",
    "th4 = Thread(target=obj.Q4)\n",
    "th1.start()\n",
    "th2.start()\n",
    "th3.start()\n",
    "th4.start()"
   ]
  },
  {
   "cell_type": "code",
   "execution_count": 1,
   "metadata": {},
   "outputs": [],
   "source": [
    "from threading import Thread,current_thread"
   ]
  },
  {
   "cell_type": "code",
   "execution_count": 32,
   "metadata": {},
   "outputs": [],
   "source": [
    "class Movie :\n",
    "    def __init__(self , av):\n",
    "        self.av = av\n",
    "    def booking(self , need_sheets):\n",
    "        print(\"Available_SHeets :\",self.av)\n",
    "        if self.av >= need_sheets :\n",
    "            name = current_thread().name\n",
    "            print(f\"{need_sheets} are alloted to {name}\")\n",
    "            self.av -= need_sheets\n",
    "        else:\n",
    "            print(\"Available_SHeets :\",self.av)\n",
    "            print(\"Sorry\")"
   ]
  },
  {
   "cell_type": "code",
   "execution_count": 38,
   "metadata": {},
   "outputs": [],
   "source": [
    "m = Movie(5)"
   ]
  },
  {
   "cell_type": "code",
   "execution_count": 39,
   "metadata": {},
   "outputs": [],
   "source": [
    "th1 = Thread(target=m.booking,args=(3,),name = \"th1\")\n",
    "th2 = Thread(target=m.booking,args=(5,),name = \"th2\")\n",
    "# th3 = Thread(target=m.booking,args=(5,),name = \"th3\")\n",
    "# th4 = Thread(target=m.booking,args=(5,),name = \"th4\")\n"
   ]
  },
  {
   "cell_type": "code",
   "execution_count": 40,
   "metadata": {},
   "outputs": [
    {
     "name": "stdout",
     "output_type": "stream",
     "text": [
      "Available_SHeets : 5\n",
      "Available_SHeets : 5\n",
      "5 are alloted to th2\n",
      "Available_SHeets : 0\n",
      "Sorry\n"
     ]
    }
   ],
   "source": [
    "th1.start()\n",
    "th2.start()\n",
    "# th3.start()\n",
    "# th4.start()"
   ]
  },
  {
   "cell_type": "code",
   "execution_count": null,
   "metadata": {},
   "outputs": [],
   "source": []
  },
  {
   "cell_type": "code",
   "execution_count": null,
   "metadata": {},
   "outputs": [],
   "source": []
  },
  {
   "cell_type": "code",
   "execution_count": 1,
   "metadata": {},
   "outputs": [
    {
     "name": "stdout",
     "output_type": "stream",
     "text": [
      "Print squares\n",
      "Square 4\n",
      "Square 9\n",
      "Square 16\n",
      "Square 25\n",
      "Print cubes\n",
      "Cube 8\n",
      "Cube 27\n",
      "Cube 64\n",
      "Cube 125\n",
      "Without thread program took 1.61594820022583\n",
      "\n",
      "Print squares\n",
      "Print cubes\n",
      "Square 4\n",
      "Cube 8\n",
      "Square 9\n",
      "Cube 27\n",
      "Square 16\n",
      "Cube 64\n",
      "Square 25\n",
      "Cube 125\n",
      "Program took 0.8296527862548828\n"
     ]
    }
   ],
   "source": [
    "import time\n",
    "import threading\n",
    "\n",
    "\n",
    "def PrintSquare(numbers):\n",
    "  print(\"Print squares\")\n",
    "  for n in numbers:\n",
    "    time.sleep(0.2)\n",
    "    print(\"Square\", n*n)\n",
    "\n",
    "\n",
    "def PrintCube(numbers):\n",
    "  print(\"Print cubes\")\n",
    "  for n in numbers:\n",
    "    time.sleep(0.2)\n",
    "    print(\"Cube\", n*n*n)\n",
    "\n",
    "\n",
    "def with_thread():\n",
    "    arr = [2,3,4,5]\n",
    "    t = time.time()\n",
    "    t1=threading.Thread(target=PrintSquare, args=(arr,))\n",
    "    t2=threading.Thread(target=PrintCube, args=(arr,))\n",
    "    # starting thread 1\n",
    "    t1.start()\n",
    "    # starting thread 2\n",
    "    t2.start()\n",
    " \n",
    "    # wait until thread 1 is completely executed\n",
    "    t1.join()\n",
    "    # wait until thread 2 is completely executed\n",
    "    t2.join()\n",
    "    print(\"Program took\", time.time()-t)\n",
    "\n",
    "def without_thread():\n",
    "    arr = [2,3,4,5]\n",
    "    t = time.time()\n",
    "    PrintSquare(arr)\n",
    "    PrintCube(arr)\n",
    "    print(\"Without thread program took\", time.time()-t)\n",
    "\n",
    "if __name__ == '__main__':\n",
    "    without_thread()\n",
    "    print()\n",
    "    with_thread()"
   ]
  },
  {
   "cell_type": "code",
   "execution_count": null,
   "metadata": {},
   "outputs": [],
   "source": []
  }
 ],
 "metadata": {
  "kernelspec": {
   "display_name": "Python 3",
   "language": "python",
   "name": "python3"
  },
  "language_info": {
   "codemirror_mode": {
    "name": "ipython",
    "version": 3
   },
   "file_extension": ".py",
   "mimetype": "text/x-python",
   "name": "python",
   "nbconvert_exporter": "python",
   "pygments_lexer": "ipython3",
   "version": "3.9.5"
  }
 },
 "nbformat": 4,
 "nbformat_minor": 2
}
