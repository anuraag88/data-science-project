{
 "cells": [
  {
   "cell_type": "code",
   "execution_count": 2,
   "metadata": {},
   "outputs": [
    {
     "name": "stdout",
     "output_type": "stream",
     "text": [
      "['09', '04', '2021']\n",
      "['2021', '04', '09']\n"
     ]
    },
    {
     "data": {
      "text/plain": [
       "'2021-04-09'"
      ]
     },
     "execution_count": 2,
     "metadata": {},
     "output_type": "execute_result"
    }
   ],
   "source": [
    "d = \"09-04-2021\"\n",
    "# op = \"2021-04-09\"\n",
    "l=d.split('-')\n",
    "print(l)\n",
    "l=l[::-1]\n",
    "print(l)\n",
    "op='-'.join(l)\n",
    "op"
   ]
  },
  {
   "cell_type": "code",
   "execution_count": null,
   "metadata": {},
   "outputs": [],
   "source": [
    "a = '₹1,54,990₹1,64,9906% off'\n",
    "\n",
    "# Required value_1 : 154990\n",
    "# Required value_2 : 1649906\n",
    "# Required value_3 : 1549901649906"
   ]
  },
  {
   "cell_type": "code",
   "execution_count": 1,
   "metadata": {},
   "outputs": [
    {
     "name": "stdout",
     "output_type": "stream",
     "text": [
      "['', '1,54,990', '1,64,9906% off']\n",
      "1,54,990\n",
      "['1', '54', '990']\n",
      "154990\n"
     ]
    }
   ],
   "source": [
    "a = '₹1,54,990₹1,64,9906% off'\n",
    "# Required value_1 : 154990\n",
    "b = a.split('₹')\n",
    "print(b)\n",
    "c = b[1]\n",
    "print(c)\n",
    "d = c.split(',')\n",
    "print(d)\n",
    "e = ''.join(d)\n",
    "print(e)"
   ]
  },
  {
   "cell_type": "code",
   "execution_count": null,
   "metadata": {},
   "outputs": [],
   "source": [
    "b = ''.join(a.split('₹')[1].split(','))\n",
    "print(b)"
   ]
  },
  {
   "cell_type": "code",
   "execution_count": 3,
   "metadata": {},
   "outputs": [
    {
     "name": "stdout",
     "output_type": "stream",
     "text": [
      "123 <class 'str'>\n",
      "123 <class 'int'>\n"
     ]
    }
   ],
   "source": [
    "s=\"123\"\n",
    "print(s,type(s))\n",
    "i=int(s)\n",
    "print(i,type(i))"
   ]
  },
  {
   "cell_type": "code",
   "execution_count": 4,
   "metadata": {},
   "outputs": [
    {
     "name": "stdout",
     "output_type": "stream",
     "text": [
      "1_2_3 <class 'str'>\n",
      "123 <class 'int'>\n"
     ]
    }
   ],
   "source": [
    "s=\"1_2_3\"\n",
    "print(s,type(s))\n",
    "i=int(s)\n",
    "print(i,type(i))"
   ]
  },
  {
   "cell_type": "code",
   "execution_count": 7,
   "metadata": {},
   "outputs": [
    {
     "name": "stdout",
     "output_type": "stream",
     "text": [
      "_1_54_990_1_64_9906% off\n",
      "19\n"
     ]
    },
    {
     "data": {
      "text/plain": [
       "1549901649906"
      ]
     },
     "execution_count": 7,
     "metadata": {},
     "output_type": "execute_result"
    }
   ],
   "source": [
    "b=a.replace('₹','_')\n",
    "c=b.replace(',','_')\n",
    "print(c)\n",
    "print(c.index('%'))\n",
    "e=int(c[1:19])\n",
    "e"
   ]
  },
  {
   "cell_type": "code",
   "execution_count": 5,
   "metadata": {},
   "outputs": [
    {
     "name": "stdout",
     "output_type": "stream",
     "text": [
      "1,54,990\n",
      "['1', '54', '990']\n"
     ]
    },
    {
     "data": {
      "text/plain": [
       "'154990'"
      ]
     },
     "execution_count": 5,
     "metadata": {},
     "output_type": "execute_result"
    }
   ],
   "source": [
    "# Required value_1 : 154990\n",
    "a = '₹1,54,990₹1,64,9906% off'\n",
    "a.index('0')\n",
    "b=a[1:9]\n",
    "print(b)\n",
    "c = b.split(',')\n",
    "print(c)\n",
    "d=''.join(c)\n",
    "d"
   ]
  },
  {
   "cell_type": "code",
   "execution_count": null,
   "metadata": {},
   "outputs": [],
   "source": [
    "x= ''.join(a[1:9].split(','))\n",
    "x"
   ]
  },
  {
   "cell_type": "code",
   "execution_count": 6,
   "metadata": {},
   "outputs": [
    {
     "name": "stdout",
     "output_type": "stream",
     "text": [
      "['₹1,54,990₹1,64,9906', ' off']\n",
      "['', '1,54,990', '1,64,9906']\n"
     ]
    },
    {
     "data": {
      "text/plain": [
       "'1,54,9901,64,9906'"
      ]
     },
     "execution_count": 6,
     "metadata": {},
     "output_type": "execute_result"
    }
   ],
   "source": [
    "# Required value_1 : 154990\n",
    "a = '₹1,54,990₹1,64,9906% off'\n",
    "b=a.split('%')\n",
    "print(b)\n",
    "c=b[0].split('₹')\n",
    "print(c)\n",
    "d=c[1]+c[2]\n",
    "d"
   ]
  },
  {
   "cell_type": "code",
   "execution_count": null,
   "metadata": {},
   "outputs": [],
   "source": []
  },
  {
   "cell_type": "markdown",
   "metadata": {},
   "source": [
    "## List (Mutable)\n",
    "\n",
    "* Denoted by [ ] and items are separated using a ,\n",
    "* Concatenation\n",
    "* Indexing,Slicing\n",
    "* Methods\n",
    "* a =[ ] -> Empty List"
   ]
  },
  {
   "cell_type": "code",
   "execution_count": null,
   "metadata": {},
   "outputs": [],
   "source": [
    "a = []\n",
    "# Notice how the type is class list, as everything is an object in Python\n",
    "print(a,type(a),len(a))"
   ]
  },
  {
   "cell_type": "code",
   "execution_count": null,
   "metadata": {},
   "outputs": [],
   "source": [
    "# Homogenous data -> Same type\n",
    "a = [10,20,30,40]\n",
    "print(a)\n",
    "# Heterogenous Data -> Multiple types\n",
    "b = [10,10.45,\"HELLO\",[1,2,3]]\n",
    "print(b)"
   ]
  },
  {
   "cell_type": "code",
   "execution_count": null,
   "metadata": {},
   "outputs": [],
   "source": [
    "# Concatenation\n",
    "# It change sthe address(id) value as it reinitializes the varible\n",
    "a = [1,2,3]\n",
    "b = [4,5,6]\n",
    "print(a,b)\n",
    "print(id(a),id(b))\n",
    "c = a+b\n",
    "print(c,id(c))\n",
    "# print(id(a) is id(b))"
   ]
  },
  {
   "cell_type": "markdown",
   "metadata": {},
   "source": [
    "## Indexing and Slicing\n",
    "\n",
    "* It works the same way it worked on strings"
   ]
  },
  {
   "cell_type": "code",
   "execution_count": null,
   "metadata": {},
   "outputs": [],
   "source": [
    "a = [10,20,30,40,50,60]\n",
    "\n",
    "print(a[2])\n",
    "print(a[-3])\n",
    "\n",
    "print(a[2:5])\n",
    "print(a[1:5:2])\n",
    "print()\n",
    "print(a[::-1])"
   ]
  },
  {
   "cell_type": "code",
   "execution_count": null,
   "metadata": {},
   "outputs": [],
   "source": [
    "a = [10,[\"PYthon\",\"RT\"],\"HELLO\",[1,2,3]] \n",
    "print(a,len(a))\n",
    "\n",
    "print(a[0])\n",
    "print(a[1])\n",
    "print(a[2])\n",
    "print(a[3])\n",
    "\n",
    "print(a[1][0][0])\n",
    "print(a[1][1][-1])\n",
    "print(a[2][1])"
   ]
  },
  {
   "cell_type": "code",
   "execution_count": null,
   "metadata": {},
   "outputs": [],
   "source": [
    "a = [10,20,30,40,50,60]\n",
    "print(a)\n",
    "a[1] =70\n",
    "a"
   ]
  },
  {
   "cell_type": "markdown",
   "metadata": {},
   "source": [
    "## List Methods"
   ]
  },
  {
   "cell_type": "code",
   "execution_count": null,
   "metadata": {},
   "outputs": [],
   "source": [
    "#dir(str)"
   ]
  },
  {
   "cell_type": "code",
   "execution_count": null,
   "metadata": {},
   "outputs": [],
   "source": [
    "dir(list)"
   ]
  },
  {
   "cell_type": "code",
   "execution_count": null,
   "metadata": {},
   "outputs": [],
   "source": [
    "help(list)"
   ]
  },
  {
   "cell_type": "code",
   "execution_count": null,
   "metadata": {},
   "outputs": [],
   "source": [
    "help(list.append)"
   ]
  },
  {
   "cell_type": "code",
   "execution_count": null,
   "metadata": {},
   "outputs": [],
   "source": [
    "a = [10,20,30]\n",
    "print(a,id(a))\n",
    "# Append method adds items to end of the list\n",
    "a.append(40)\n",
    "print(a,id(a))\n",
    "\n",
    "a.append([1,2,3])\n",
    "print(a)\n",
    "a.append('HELLO')\n",
    "print(a,id(a))"
   ]
  },
  {
   "cell_type": "code",
   "execution_count": null,
   "metadata": {},
   "outputs": [],
   "source": [
    "a.append([3,4,5,])\n",
    "a"
   ]
  },
  {
   "cell_type": "code",
   "execution_count": null,
   "metadata": {},
   "outputs": [],
   "source": [
    "a = [10,40,50,40]\n",
    "b = a.count(40)\n",
    "print(b)\n",
    "b = a.index(40)\n",
    "print(b)"
   ]
  },
  {
   "cell_type": "code",
   "execution_count": null,
   "metadata": {},
   "outputs": [],
   "source": [
    "a = [1,2,3,4,5]\n",
    "print(a.pop())\n",
    "print(a.pop())"
   ]
  },
  {
   "cell_type": "code",
   "execution_count": null,
   "metadata": {},
   "outputs": [],
   "source": [
    "a = [10,40,50,40]\n",
    "print(a.pop())#\n",
    "print(a.pop())#\n",
    "print(a.pop())#\n",
    "print(a.pop())#\n",
    "print(a)\n"
   ]
  },
  {
   "cell_type": "code",
   "execution_count": null,
   "metadata": {},
   "outputs": [],
   "source": [
    "a = [10,40,50,40]\n",
    "b=[]\n",
    "print(b)\n",
    "b.append(a.pop())\n",
    "b.append(a.pop())\n",
    "b.append(a.pop())\n",
    "b.append(a.pop())\n",
    "b"
   ]
  },
  {
   "cell_type": "code",
   "execution_count": null,
   "metadata": {},
   "outputs": [],
   "source": [
    "a = [10,40,50,40]\n",
    "# del a[index]\n",
    "del a[2]\n",
    "\n",
    "a"
   ]
  },
  {
   "cell_type": "code",
   "execution_count": null,
   "metadata": {},
   "outputs": [],
   "source": [
    "a = [10,40,50,40]\n",
    "del a[1:3]\n",
    "\n",
    "a"
   ]
  },
  {
   "cell_type": "code",
   "execution_count": null,
   "metadata": {},
   "outputs": [],
   "source": [
    "a = [10,40,50,40,2,4,5,67,77,88,99,90]\n",
    "del a[1::2]\n",
    "\n",
    "a"
   ]
  },
  {
   "cell_type": "code",
   "execution_count": null,
   "metadata": {},
   "outputs": [],
   "source": [
    "a = [10,40,50,40]\n",
    "print(a.pop(1))\n",
    "a"
   ]
  },
  {
   "cell_type": "code",
   "execution_count": null,
   "metadata": {},
   "outputs": [],
   "source": [
    "\n",
    "a = [10,40,50,40,66,77,88]\n",
    "del a[::2]\n",
    "print(a)"
   ]
  },
  {
   "cell_type": "code",
   "execution_count": null,
   "metadata": {},
   "outputs": [],
   "source": [
    "#a.remove(value)\n",
    "a = [10,40,50,40]\n",
    "a.remove(50)\n",
    "print(a)\n"
   ]
  },
  {
   "cell_type": "code",
   "execution_count": null,
   "metadata": {},
   "outputs": [],
   "source": [
    "a = [10,40,50,40]\n",
    "# op = [10,50] using dell method\n",
    "del a[1::2]\n",
    "print(a)"
   ]
  },
  {
   "cell_type": "code",
   "execution_count": null,
   "metadata": {},
   "outputs": [],
   "source": [
    "a = [10,40,50,40]\n",
    "a.remove(40)\n",
    "print(a)"
   ]
  },
  {
   "cell_type": "code",
   "execution_count": null,
   "metadata": {},
   "outputs": [],
   "source": [
    "a = [10,40,50,40]\n",
    "a.clear()\n",
    "print(a)"
   ]
  },
  {
   "cell_type": "code",
   "execution_count": null,
   "metadata": {},
   "outputs": [],
   "source": [
    "a = [10,40,50,40]\n",
    "# Remove method deltes the values passed as an argument\n",
    "# It value does not exist an error is displayed\n",
    "a.remove(40)\n",
    "print(a)\n",
    "# Pop method removes the item at particular index; by default last\n",
    "b = a.pop()\n",
    "print(a,b)\n",
    "b = a.pop(1)\n",
    "print(a,b)\n",
    "#  Clear deletes the entire list and gives us an empty list\n",
    "a.clear()\n",
    "print(a,id(a))"
   ]
  },
  {
   "cell_type": "code",
   "execution_count": null,
   "metadata": {},
   "outputs": [],
   "source": [
    "a = [10,20,30]\n",
    "# Insert method ads item to the index position mentioned.\n",
    "# insert(index,value)\n",
    "a.insert(1,40)\n",
    "print(a)"
   ]
  },
  {
   "cell_type": "code",
   "execution_count": null,
   "metadata": {},
   "outputs": [],
   "source": [
    "a = [1,2,3]\n",
    "b = [4,5,6]\n",
    "print(a,b,id(a))\n",
    "c = a+b\n",
    "print(c,id(c))"
   ]
  },
  {
   "cell_type": "code",
   "execution_count": null,
   "metadata": {},
   "outputs": [],
   "source": [
    "# Extend method concatenates without changing the orginal address\n",
    "a = [1,2,3]\n",
    "b = [4,5,6]\n",
    "print(id(a),id(b))\n",
    "a.extend(b)#[1,2,3,4,5,6]\n",
    "print(a,id(a))\n",
    "\n",
    "b.extend(a)#[3,4,5,6,1,2,3,4,5,6]\n",
    "print(b,id(b))"
   ]
  },
  {
   "cell_type": "code",
   "execution_count": null,
   "metadata": {},
   "outputs": [],
   "source": [
    "a = [1,2,3]\n",
    "b = [4,5,6]\n",
    "#[1,2,3,6,5,4]\n",
    "print(id(a),id(b))\n",
    "a.extend(b[::-1])\n",
    "print(a,id(a))\n"
   ]
  },
  {
   "cell_type": "code",
   "execution_count": null,
   "metadata": {},
   "outputs": [],
   "source": [
    "a = [25, 28, 15, 13, 21, 6]\n",
    "print(a,id(a))\n",
    "b = a[::-1]\n",
    "print(b,id(b))"
   ]
  },
  {
   "cell_type": "code",
   "execution_count": null,
   "metadata": {},
   "outputs": [],
   "source": [
    "help(list.reverse)"
   ]
  },
  {
   "cell_type": "code",
   "execution_count": null,
   "metadata": {},
   "outputs": [],
   "source": [
    "a = [25, 28, 15, 13, 21, 6]\n",
    "#print(a,id(a))\n",
    "a.reverse()# or a[::-1]\n",
    "print(a)\n",
    "a.reverse()# or a[::-1]\n",
    "print(a)"
   ]
  },
  {
   "cell_type": "code",
   "execution_count": null,
   "metadata": {},
   "outputs": [],
   "source": [
    "help(list.sort)"
   ]
  },
  {
   "cell_type": "code",
   "execution_count": null,
   "metadata": {},
   "outputs": [],
   "source": [
    "a = [25, 28, 15, 13, 21, 6]\n",
    "print(a,id(a))\n",
    "a.sort()\n",
    "print(a,id(a))\n",
    "\n",
    "a.reverse()\n",
    "print(a,id(a))\n",
    "\n",
    "# To get sorting order in descending order\n",
    "a.sort(reverse=True)\n",
    "\n",
    "# print(a,id(a))\n"
   ]
  },
  {
   "cell_type": "code",
   "execution_count": null,
   "metadata": {},
   "outputs": [],
   "source": [
    "a = [25, 28, 15, 13, 21, 6]\n",
    "print(sorted(a))\n",
    "print(a)"
   ]
  },
  {
   "cell_type": "code",
   "execution_count": null,
   "metadata": {},
   "outputs": [],
   "source": [
    "a = ['ze','bcdefg','axe','abcd','defgi']\n",
    "print(a)\n",
    "#Sorting alphabetically\n",
    "a.sort()\n",
    "print(a)\n",
    "# Key argument is used to customize the sort order\n",
    "# We are now sorting using length of the items\n",
    "a.sort(key=len)\n",
    "print(a)\n",
    "a.sort(key=len, reverse=True)\n",
    "print(a)"
   ]
  },
  {
   "cell_type": "code",
   "execution_count": null,
   "metadata": {
    "scrolled": true
   },
   "outputs": [],
   "source": [
    "a = [10,40,50,40]\n",
    "print(a,id(a))\n",
    "b=a[:]\n",
    "print(b,id(b))\n",
    "b.append('s')\n",
    "print(a)\n",
    "print(b)"
   ]
  },
  {
   "cell_type": "code",
   "execution_count": null,
   "metadata": {},
   "outputs": [],
   "source": [
    "#imp\n",
    "a = [10,40,50,40]\n",
    "b=a\n",
    "print(a,id(a))\n",
    "print(b,id(b))\n",
    "b.append('d')\n",
    "print(b)\n",
    "print(a)"
   ]
  },
  {
   "cell_type": "markdown",
   "metadata": {},
   "source": [
    "## Shallow Copy\n",
    "\n",
    "This is required so that we can create a copy of the original list and do not modify it using another variable.\n",
    "\n",
    "Example : "
   ]
  },
  {
   "cell_type": "code",
   "execution_count": null,
   "metadata": {},
   "outputs": [],
   "source": [
    "a = [10,20,30]\n",
    "b = a # b is a reference to a\n",
    "print(a,b)\n",
    "print(id(a),id(b))\n",
    "print(a == b)\n",
    "print(a is b)\n",
    "b[0] = 55\n",
    "# You can see that both list a and b gets modified\n",
    "print(a,b)"
   ]
  },
  {
   "cell_type": "code",
   "execution_count": null,
   "metadata": {
    "scrolled": true
   },
   "outputs": [],
   "source": [
    "a = [10,20,30]\n",
    "b = a.copy() # b is a shallow copy of a or a[:]\n",
    "print(a,b)\n",
    "print(id(a),id(b))\n",
    "print(a == b)\n",
    "print(a is b)\n",
    "b[0] = 50\n",
    "# Only list b gets modified\n",
    "print(a,b)"
   ]
  },
  {
   "cell_type": "code",
   "execution_count": null,
   "metadata": {},
   "outputs": [],
   "source": [
    "a = [10,20,30]\n",
    "b=a\n",
    "b[0] = 50\n",
    "print(a,b)"
   ]
  },
  {
   "cell_type": "markdown",
   "metadata": {},
   "source": [
    "### Tuples (Immutable Lists)\n",
    "\n",
    "* Denoted by ( ) and items are separated using a ,\n",
    "* Concatenation\n",
    "* Indexing, SLicing\n",
    "* Methods -> Count, Index\n",
    "* Genrally faster than lists"
   ]
  },
  {
   "cell_type": "code",
   "execution_count": null,
   "metadata": {},
   "outputs": [],
   "source": [
    "a = (10,20,30)\n",
    "print(a,type(a))\n",
    "# Below statement will give an error as tuples are immutable\n",
    "a[0] = 40\n"
   ]
  },
  {
   "cell_type": "code",
   "execution_count": null,
   "metadata": {},
   "outputs": [],
   "source": [
    "dir(tuple)"
   ]
  },
  {
   "cell_type": "code",
   "execution_count": null,
   "metadata": {},
   "outputs": [],
   "source": [
    "a = [10,20,30,40,50,60]\n",
    "print(a,type(a))\n",
    "a = tuple(a)\n",
    "print(a,type(a))"
   ]
  },
  {
   "cell_type": "code",
   "execution_count": null,
   "metadata": {},
   "outputs": [],
   "source": [
    "a = (10, 20, 30, 40, 50, 60)\n",
    "print(a[0])\n",
    "print(a[2:6])"
   ]
  },
  {
   "cell_type": "code",
   "execution_count": 2,
   "metadata": {},
   "outputs": [
    {
     "name": "stdout",
     "output_type": "stream",
     "text": [
      "(1, 2, 3) (4, 5, 6) 2435818912128\n",
      "(1, 2, 3, 4, 5, 6) 2435818540384\n"
     ]
    }
   ],
   "source": [
    "a = (1,2,3)\n",
    "b = (4,5,6)\n",
    "print(a,b,id(a))\n",
    "c = a+b\n",
    "print(c,id(c))"
   ]
  },
  {
   "cell_type": "markdown",
   "metadata": {},
   "source": [
    "# Typecasting\n",
    "\n",
    "Changing from one type to another"
   ]
  },
  {
   "cell_type": "code",
   "execution_count": 4,
   "metadata": {},
   "outputs": [
    {
     "name": "stdout",
     "output_type": "stream",
     "text": [
      "123 <class 'int'>\n",
      "123.0 <class 'float'>\n"
     ]
    }
   ],
   "source": [
    "a = 123\n",
    "print(a,type(a))\n",
    "a = float(a)\n",
    "print(a,type(a))"
   ]
  },
  {
   "cell_type": "code",
   "execution_count": 3,
   "metadata": {},
   "outputs": [
    {
     "name": "stdout",
     "output_type": "stream",
     "text": [
      "123.45 <class 'float'>\n",
      "123 <class 'int'>\n"
     ]
    }
   ],
   "source": [
    "a = 123.45\n",
    "print(a,type(a))\n",
    "a = int(a)\n",
    "print(a,type(a))"
   ]
  },
  {
   "cell_type": "code",
   "execution_count": 7,
   "metadata": {},
   "outputs": [
    {
     "name": "stdout",
     "output_type": "stream",
     "text": [
      "12345 <class 'str'>\n",
      "12345 <class 'int'>\n"
     ]
    }
   ],
   "source": [
    "a = '12345'\n",
    "print(a,type(a))\n",
    "a = int(a)\n",
    "print(a,type(a))"
   ]
  },
  {
   "cell_type": "code",
   "execution_count": 8,
   "metadata": {},
   "outputs": [
    {
     "name": "stdout",
     "output_type": "stream",
     "text": [
      "12345AB <class 'str'>\n"
     ]
    },
    {
     "ename": "ValueError",
     "evalue": "invalid literal for int() with base 10: '12345AB'",
     "output_type": "error",
     "traceback": [
      "\u001b[1;31m---------------------------------------------------------------------------\u001b[0m",
      "\u001b[1;31mValueError\u001b[0m                                Traceback (most recent call last)",
      "\u001b[1;32m<ipython-input-8-18484198d978>\u001b[0m in \u001b[0;36m<module>\u001b[1;34m\u001b[0m\n\u001b[0;32m      1\u001b[0m \u001b[0ma\u001b[0m \u001b[1;33m=\u001b[0m \u001b[1;34m'12345AB'\u001b[0m\u001b[1;33m\u001b[0m\u001b[1;33m\u001b[0m\u001b[0m\n\u001b[0;32m      2\u001b[0m \u001b[0mprint\u001b[0m\u001b[1;33m(\u001b[0m\u001b[0ma\u001b[0m\u001b[1;33m,\u001b[0m\u001b[0mtype\u001b[0m\u001b[1;33m(\u001b[0m\u001b[0ma\u001b[0m\u001b[1;33m)\u001b[0m\u001b[1;33m)\u001b[0m\u001b[1;33m\u001b[0m\u001b[1;33m\u001b[0m\u001b[0m\n\u001b[1;32m----> 3\u001b[1;33m \u001b[0ma\u001b[0m \u001b[1;33m=\u001b[0m \u001b[0mint\u001b[0m\u001b[1;33m(\u001b[0m\u001b[0ma\u001b[0m\u001b[1;33m)\u001b[0m\u001b[1;33m\u001b[0m\u001b[1;33m\u001b[0m\u001b[0m\n\u001b[0m\u001b[0;32m      4\u001b[0m \u001b[0mprint\u001b[0m\u001b[1;33m(\u001b[0m\u001b[0ma\u001b[0m\u001b[1;33m,\u001b[0m\u001b[0mtype\u001b[0m\u001b[1;33m(\u001b[0m\u001b[0ma\u001b[0m\u001b[1;33m)\u001b[0m\u001b[1;33m)\u001b[0m\u001b[1;33m\u001b[0m\u001b[1;33m\u001b[0m\u001b[0m\n",
      "\u001b[1;31mValueError\u001b[0m: invalid literal for int() with base 10: '12345AB'"
     ]
    }
   ],
   "source": [
    "a = '12345AB'\n",
    "print(a,type(a))\n",
    "a = int(a)\n",
    "print(a,type(a))"
   ]
  },
  {
   "cell_type": "code",
   "execution_count": 9,
   "metadata": {},
   "outputs": [
    {
     "name": "stdout",
     "output_type": "stream",
     "text": [
      "1_2_3_4 <class 'str'>\n",
      "1234 <class 'int'>\n"
     ]
    }
   ],
   "source": [
    "a = '1_2_3_4'\n",
    "print(a,type(a))\n",
    "a = int(a)\n",
    "print(a,type(a))"
   ]
  },
  {
   "cell_type": "code",
   "execution_count": null,
   "metadata": {},
   "outputs": [],
   "source": [
    "a = '123.45'\n",
    "print(a,type(a))\n",
    "a = float(a)\n",
    "print(a,type(a))\n",
    "a = int(a)\n",
    "print(a,type(a))"
   ]
  },
  {
   "cell_type": "code",
   "execution_count": 11,
   "metadata": {},
   "outputs": [
    {
     "name": "stdout",
     "output_type": "stream",
     "text": [
      "[1, 2, 3, [...]]\n"
     ]
    }
   ],
   "source": [
    "#Exception\n",
    "l=[1,2,3]#\n",
    "l.append(l)\n",
    "print(l)"
   ]
  },
  {
   "cell_type": "code",
   "execution_count": 10,
   "metadata": {},
   "outputs": [
    {
     "data": {
      "text/plain": [
       "[1, 2, 3, [...]]"
      ]
     },
     "execution_count": 10,
     "metadata": {},
     "output_type": "execute_result"
    }
   ],
   "source": [
    "l=[1,2,3]\n",
    "print(l.append(l))"
   ]
  },
  {
   "cell_type": "code",
   "execution_count": 23,
   "metadata": {
    "scrolled": true
   },
   "outputs": [
    {
     "name": "stdout",
     "output_type": "stream",
     "text": [
      "PYTHON <class 'str'>\n",
      "['P', 'Y', 'T', 'H', 'O', 'N'] <class 'list'>\n",
      "P Y T H O N <class 'str'>\n"
     ]
    }
   ],
   "source": [
    "# Exception\n",
    "a = 'PYTHON' # op=['P', 'Y', 'T', 'H', 'O', 'N']\n",
    "print(a,type(a))\n",
    "a = list(a)#\n",
    "print(a,type(a))\n",
    "a = ''.join(a)\n",
    "print(a,type(a))"
   ]
  },
  {
   "cell_type": "code",
   "execution_count": 18,
   "metadata": {},
   "outputs": [
    {
     "name": "stdout",
     "output_type": "stream",
     "text": [
      "['PYTHON']\n"
     ]
    }
   ],
   "source": [
    "a = 'PYTHON'\n",
    "print(a.split(' '))"
   ]
  },
  {
   "cell_type": "code",
   "execution_count": 19,
   "metadata": {},
   "outputs": [
    {
     "name": "stdout",
     "output_type": "stream",
     "text": [
      "['P', 'Y', 'T', 'H', 'O', 'N']\n"
     ]
    }
   ],
   "source": [
    "a = 'P Y T H O N'\n",
    "print(a.split(' '))"
   ]
  },
  {
   "cell_type": "code",
   "execution_count": null,
   "metadata": {},
   "outputs": [],
   "source": [
    "a=5678\n",
    "#8765\n",
    "a=str(a)\n",
    "a\n",
    "b=a[::-1]\n",
    "b\n",
    "c=int(b)\n",
    "c"
   ]
  },
  {
   "cell_type": "code",
   "execution_count": null,
   "metadata": {},
   "outputs": [],
   "source": [
    "a = 12345\n",
    "b=str(a)\n",
    "b[::-1]\n",
    "c=int(b)\n",
    "c\n",
    "d=int(str(a)[::-1])\n",
    "print(d)"
   ]
  },
  {
   "cell_type": "code",
   "execution_count": null,
   "metadata": {},
   "outputs": [],
   "source": [
    "a = 12345\n",
    "r=int(str(a)[::-1])\n",
    "r"
   ]
  },
  {
   "cell_type": "code",
   "execution_count": null,
   "metadata": {},
   "outputs": [],
   "source": [
    "# Reversing an integer using Typecasting\n",
    "a = 12345\n",
    "print(a,type(a))\n",
    "a = str(a)\n",
    "print(a,type(a))\n",
    "a = a[::-1]\n",
    "print(a,type(a))\n",
    "a = int(a)\n",
    "print(a,type(a))\n",
    "c=int(str(a)[::-1])\n",
    "print(c)\n",
    "b = 12345\n",
    "b = int(str(b)[::-1])\n",
    "print(b,type(b))"
   ]
  },
  {
   "cell_type": "code",
   "execution_count": null,
   "metadata": {},
   "outputs": [],
   "source": [
    "a=12345\n",
    "a = str(12345)\n",
    "b=list(a)\n",
    "b"
   ]
  },
  {
   "cell_type": "markdown",
   "metadata": {},
   "source": [
    "# Taking an User input\n",
    "Syntax\n",
    "input(\"Optional Statement\")\n",
    "\n",
    "BY defualt it returns a string object"
   ]
  },
  {
   "cell_type": "code",
   "execution_count": 27,
   "metadata": {},
   "outputs": [
    {
     "name": "stdout",
     "output_type": "stream",
     "text": [
      "sdafsa122334\n",
      "sdafsa122334 <class 'str'>\n"
     ]
    }
   ],
   "source": [
    "a = input(\"Enter something : \")\n",
    "print(a,type(a))"
   ]
  },
  {
   "cell_type": "code",
   "execution_count": 26,
   "metadata": {},
   "outputs": [
    {
     "name": "stdout",
     "output_type": "stream",
     "text": [
      "Enter a number :: 45654653463\n",
      "45654653463 <class 'int'>\n"
     ]
    }
   ],
   "source": [
    "a = int(input(\"Enter a number :: \"))\n",
    "print(a,type(a))"
   ]
  },
  {
   "cell_type": "markdown",
   "metadata": {},
   "source": [
    "### taking-multiple-inputs-from-user-in-python"
   ]
  },
  {
   "cell_type": "code",
   "execution_count": 1,
   "metadata": {},
   "outputs": [
    {
     "name": "stdout",
     "output_type": "stream",
     "text": [
      "Enter two values: 4 5\n",
      "Number of boys:  4\n",
      "Number of girls:  5\n",
      "\n",
      "Enter three values: 44 40 3\n",
      "Total number of students:  44\n",
      "Number of boys is :  40\n",
      "Number of girls is :  3\n",
      "\n",
      "Enter two values: 3 5\n",
      "First number is 3 and second number is 5\n",
      "\n",
      "Enter multiple values: 2 3 4 5\n",
      "List of students:  [2, 3, 4, 5]\n"
     ]
    }
   ],
   "source": [
    "# taking two inputs at a time\n",
    "boys, girls = input(\"Enter two values: \").split()\n",
    "print(\"Number of boys: \", boys)\n",
    "print(\"Number of girls: \", girls)\n",
    "print()\n",
    " \n",
    "# taking three inputs at a time\n",
    "total, boys, girls = input(\"Enter three values: \").split()\n",
    "print(\"Total number of students: \", total)\n",
    "print(\"Number of boys is : \", boys)\n",
    "print(\"Number of girls is : \", girls)\n",
    "print()\n",
    " \n",
    "# taking two inputs at a time\n",
    "a, b = input(\"Enter two values: \").split()\n",
    "print(\"First number is {} and second number is {}\".format(a, b))\n",
    "print()\n",
    " \n",
    "# taking multiple inputs at a time\n",
    "# and type casting using list() function\n",
    "x = list(map(int, input(\"Enter multiple values: \").split()))\n",
    "print(\"List of students: \", x)"
   ]
  },
  {
   "cell_type": "markdown",
   "metadata": {},
   "source": [
    "##### "
   ]
  },
  {
   "cell_type": "code",
   "execution_count": null,
   "metadata": {},
   "outputs": [],
   "source": []
  }
 ],
 "metadata": {
  "kernelspec": {
   "display_name": "Python 3",
   "language": "python",
   "name": "python3"
  },
  "language_info": {
   "codemirror_mode": {
    "name": "ipython",
    "version": 3
   },
   "file_extension": ".py",
   "mimetype": "text/x-python",
   "name": "python",
   "nbconvert_exporter": "python",
   "pygments_lexer": "ipython3",
   "version": "3.9.5"
  }
 },
 "nbformat": 4,
 "nbformat_minor": 2
}
