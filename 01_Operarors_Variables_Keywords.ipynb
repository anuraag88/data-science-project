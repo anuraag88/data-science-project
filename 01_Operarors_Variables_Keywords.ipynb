{
 "cells": [
  {
   "cell_type": "code",
   "execution_count": null,
   "metadata": {},
   "outputs": [],
   "source": [
    "# this is a comment"
   ]
  },
  {
   "cell_type": "markdown",
   "metadata": {},
   "source": [
    "# KEYWORDS\n",
    "\n",
    "keywords are reserved words that cannot be used as variable names, function names ."
   ]
  },
  {
   "cell_type": "code",
   "execution_count": 1,
   "metadata": {
    "scrolled": true
   },
   "outputs": [
    {
     "name": "stdout",
     "output_type": "stream",
     "text": [
      "\n",
      "Here is a list of the Python keywords.  Enter any keyword to get more help.\n",
      "\n",
      "False               break               for                 not\n",
      "None                class               from                or\n",
      "True                continue            global              pass\n",
      "__peg_parser__      def                 if                  raise\n",
      "and                 del                 import              return\n",
      "as                  elif                in                  try\n",
      "assert              else                is                  while\n",
      "async               except              lambda              with\n",
      "await               finally             nonlocal            yield\n",
      "\n"
     ]
    }
   ],
   "source": [
    "help(\"keywords\")"
   ]
  },
  {
   "cell_type": "markdown",
   "metadata": {},
   "source": [
    "# Variables\n",
    "\n",
    "Variables are containers for storing data values."
   ]
  },
  {
   "cell_type": "markdown",
   "metadata": {},
   "source": [
    "# Variable Names \n",
    "Rules:\n",
    "1-A variable name can only contain alpha-numeric characters and underscores (A-z, 0-9, and _ ).        \n",
    "2-A variable name must start with a letter or the underscore character"
   ]
  },
  {
   "cell_type": "code",
   "execution_count": null,
   "metadata": {},
   "outputs": [],
   "source": [
    "help(print)"
   ]
  },
  {
   "cell_type": "code",
   "execution_count": 2,
   "metadata": {},
   "outputs": [
    {
     "name": "stdout",
     "output_type": "stream",
     "text": [
      "5\n"
     ]
    }
   ],
   "source": [
    "a = 5\n",
    "print(a)"
   ]
  },
  {
   "cell_type": "code",
   "execution_count": 2,
   "metadata": {},
   "outputs": [
    {
     "name": "stdout",
     "output_type": "stream",
     "text": [
      "This is a : 5 <class 'int'>\n",
      "This is b : 6 <class 'int'>\n",
      "\n",
      "This is c : 2 2049338403152\n",
      "This is d : 4 2049338403216\n",
      "\n",
      "This is m : 1 2049338403120\n",
      "This is n : 1 2049338403120\n"
     ]
    }
   ],
   "source": [
    "# variables\n",
    "a = 5\n",
    "b = 6\n",
    "c,d,e = 2,4,6\n",
    "m=n=1\n",
    "print(\"This is a :\",a,type(a))\n",
    "print(\"This is b :\",b,type(b))\n",
    "print()\n",
    "\n",
    "print(\"This is c :\",c,id(c))\n",
    "print(\"This is d :\",d,id(d))\n",
    "print()\n",
    "print(\"This is m :\",m,id(m))\n",
    "print(\"This is n :\",n,id(n))\n"
   ]
  },
  {
   "cell_type": "code",
   "execution_count": 5,
   "metadata": {},
   "outputs": [
    {
     "name": "stdout",
     "output_type": "stream",
     "text": [
      "This is t : (1, 2, 3) 2049413119040\n",
      "This is a : 1 2049338403120\n",
      "This is b : 2 2049338403152\n",
      "This is c : 3 2049338403184\n"
     ]
    }
   ],
   "source": [
    "t = (1,2,3)# Packing of variables\n",
    "print(\"This is t :\",t,id(t))\n",
    "a,b,c = t  # Unpacking of variables\n",
    "print(\"This is a :\",a,id(a))\n",
    "print(\"This is b :\",b,id(b))\n",
    "print(\"This is c :\",c,id(c))"
   ]
  },
  {
   "cell_type": "markdown",
   "metadata": {},
   "source": [
    "# Operators in Python\n",
    "\n",
    "Operators are used to perform operations on variables and values."
   ]
  },
  {
   "cell_type": "markdown",
   "metadata": {},
   "source": [
    "###  Types of operators:\n",
    "\n",
    "* 1-Arithmetic operators\n",
    "* 2-Assignment operators\n",
    "* 3-Comparison operators\n",
    "* 4-Logical operators\n",
    "* 5-Identity operators\n",
    "* 6-Membership operators"
   ]
  },
  {
   "cell_type": "raw",
   "metadata": {},
   "source": [
    "# Arithmetic Operator\n",
    "+, -, , /, %(Modulus -> Remainder), //(Floor DIvision -> Quotient), *(Exponent)"
   ]
  },
  {
   "cell_type": "code",
   "execution_count": 9,
   "metadata": {},
   "outputs": [
    {
     "name": "stdout",
     "output_type": "stream",
     "text": [
      "This is simple Addition:     4\n",
      "This is simple Substraction: 1\n",
      "This is Multiplication :     6\n",
      "This is simple Division:    1.8\n",
      "This is floor Division:      1\n",
      "This is Remainder :          1\n",
      "This is suuare :             4\n",
      "This is qube :               27\n"
     ]
    }
   ],
   "source": [
    "# Arithmetic Operator\n",
    "print(\"This is simple Addition:    \",2+2)\n",
    "print(\"This is simple Substraction:\",4-3)\n",
    "print(\"This is Multiplication :    \",3*2)\n",
    "print(\"This is simple Division:   \",9/5)\n",
    "print(\"This is floor Division:     \",9//5)\n",
    "print(\"This is Remainder :         \",6%5)\n",
    "print(\"This is suuare :            \",2**2)\n",
    "print(\"This is qube :              \",3**3)"
   ]
  },
  {
   "cell_type": "code",
   "execution_count": null,
   "metadata": {},
   "outputs": [],
   "source": [
    "#square\n",
    "print(3**2)\n",
    "#qube\n",
    "3**3"
   ]
  },
  {
   "cell_type": "code",
   "execution_count": null,
   "metadata": {},
   "outputs": [],
   "source": [
    "3*3"
   ]
  },
  {
   "cell_type": "code",
   "execution_count": null,
   "metadata": {},
   "outputs": [],
   "source": [
    "2**3\n",
    "#2*2*2"
   ]
  },
  {
   "cell_type": "code",
   "execution_count": null,
   "metadata": {},
   "outputs": [],
   "source": [
    "#Modulus and Floor Division\n",
    "\n",
    "print(7%2)\n",
    "print(7/2)\n",
    "print(7//2)"
   ]
  },
  {
   "cell_type": "markdown",
   "metadata": {},
   "source": [
    "# Assignment Operator\n",
    "=, +=, -=, * =, /=, %=, //=, **="
   ]
  },
  {
   "cell_type": "code",
   "execution_count": 16,
   "metadata": {},
   "outputs": [
    {
     "name": "stdout",
     "output_type": "stream",
     "text": [
      "This is a : 5\n",
      "This is b : 0\n",
      "This is c : 12\n",
      "This is d : 1.6666666666666667\n",
      "This is e : 1\n",
      "This is f : 2\n",
      "This is g : 8\n"
     ]
    }
   ],
   "source": [
    "a,b,c,d,e,f,g = 2,3,4,5,5,5,2\n",
    "a += 3 # a=a+3\n",
    "print(\"This is a :\",a)\n",
    "b -= 3 # b=b-3\n",
    "print(\"This is b :\",b)\n",
    "c *= 3 # c=c*3\n",
    "print(\"This is c :\",c)\n",
    "d /= 3 # d=d/3\n",
    "print(\"This is d :\",d)\n",
    "e //= 3 # e=e//3\n",
    "print(\"This is e :\",e)\n",
    "f %= 3 # f=f%3\n",
    "print(\"This is f :\",f)\n",
    "g **= 3 # g=g%3\n",
    "print(\"This is g :\",g)"
   ]
  },
  {
   "cell_type": "code",
   "execution_count": 2,
   "metadata": {},
   "outputs": [
    {
     "data": {
      "text/plain": [
       "9"
      ]
     },
     "execution_count": 2,
     "metadata": {},
     "output_type": "execute_result"
    }
   ],
   "source": [
    "# a = 5\n",
    "a+=3\n",
    "a\n",
    "#task(-=, * =, /=, %=, //=, **=)"
   ]
  },
  {
   "cell_type": "markdown",
   "metadata": {},
   "source": [
    "# Comparison Operator ( Compares values )\n",
    "Returns True/ False\n",
    "\n",
    "==, !=, >, >=, <, <="
   ]
  },
  {
   "cell_type": "code",
   "execution_count": null,
   "metadata": {},
   "outputs": [],
   "source": [
    "a = 5\n",
    "b = 5\n",
    "c=4\n",
    "print(a == b)\n",
    "print(c==a)"
   ]
  },
  {
   "cell_type": "code",
   "execution_count": 21,
   "metadata": {},
   "outputs": [
    {
     "name": "stdout",
     "output_type": "stream",
     "text": [
      "True\n",
      "True\n",
      "False\n",
      "True\n"
     ]
    }
   ],
   "source": [
    "a ,b,c= 10,20,30\n",
    "print(c == a+b)\n",
    "print(a != b)\n",
    "print(c < a+b)\n",
    "print(c>=a+b)"
   ]
  },
  {
   "cell_type": "markdown",
   "metadata": {},
   "source": [
    "# Logical Operators\n",
    "and, or, not"
   ]
  },
  {
   "cell_type": "code",
   "execution_count": 1,
   "metadata": {},
   "outputs": [
    {
     "name": "stdout",
     "output_type": "stream",
     "text": [
      "False\n",
      "True\n",
      "True\n"
     ]
    }
   ],
   "source": [
    "a,b,c,d = 10,20,30,40\n",
    "print(a+b == c and c>d)\n",
    "print(a+b == c or c>d)\n",
    "print(not (a+b == c and c>d))"
   ]
  },
  {
   "cell_type": "markdown",
   "metadata": {},
   "source": [
    "# Mutable and Immutable Objects :\n",
    "A mutable object is one whose value may change in place, whereas in an immutable variable change of value will not happen in place. Modifying an immutable variable will rebuild the same variable."
   ]
  },
  {
   "cell_type": "markdown",
   "metadata": {},
   "source": [
    "# Identity Operator (Checks id/address value)\n",
    "is, is not"
   ]
  },
  {
   "cell_type": "code",
   "execution_count": 7,
   "metadata": {},
   "outputs": [
    {
     "name": "stdout",
     "output_type": "stream",
     "text": [
      "1930245597616 1930245597616 1930245597680\n",
      "1930245597616 1930245597680\n",
      "True\n",
      "False\n",
      "False\n",
      "True\n",
      "True\n"
     ]
    }
   ],
   "source": [
    "a = 5\n",
    "b = 5\n",
    "c = 7\n",
    "print(id(a),id(b),id(c))\n",
    "print(id(5),id(7))\n",
    "print(a is b)\n",
    "print(a is c)\n",
    "print(a is not b)\n",
    "print(a is not c)\n",
    "#or\n",
    "print(id(a) == id(b))"
   ]
  },
  {
   "cell_type": "code",
   "execution_count": null,
   "metadata": {},
   "outputs": [],
   "source": [
    "a = 5\n",
    "b = 5\n",
    "c = 7\n",
    "print(a,b)\n",
    "print(id(a),id(b),id(c))\n",
    "\n",
    "print(a == b)\n",
    "print(a == c)\n",
    "print(a is b)\n",
    "print(id(a) == id(b))"
   ]
  },
  {
   "cell_type": "code",
   "execution_count": null,
   "metadata": {},
   "outputs": [],
   "source": [
    "a = 5\n",
    "b = 6\n",
    "\n",
    "print(a,b)\n",
    "print(id(a),id(b))\n",
    "\n",
    "print(a == b)\n",
    "print(a is b)"
   ]
  },
  {
   "cell_type": "code",
   "execution_count": null,
   "metadata": {},
   "outputs": [],
   "source": [
    "# List is Mutable\n",
    "a = [1,2,3]\n",
    "b = [1,2,3]\n",
    "\n",
    "print(a,b)\n",
    "print(id(a),id(b))\n",
    "\n",
    "print(a == b)\n",
    "print(a is b)"
   ]
  },
  {
   "cell_type": "markdown",
   "metadata": {},
   "source": [
    "# Membership Operator\n",
    "in, not in"
   ]
  },
  {
   "cell_type": "code",
   "execution_count": 8,
   "metadata": {},
   "outputs": [
    {
     "name": "stdout",
     "output_type": "stream",
     "text": [
      "True\n",
      "False\n",
      "True\n",
      "False\n",
      "True\n"
     ]
    }
   ],
   "source": [
    "a = 'PYTHON'\n",
    "print('P' in a)\n",
    "print('p' in a)\n",
    "print('PYT' in a)\n",
    "print ('PTO' in a)\n",
    "print('X' not in a)"
   ]
  },
  {
   "cell_type": "code",
   "execution_count": null,
   "metadata": {},
   "outputs": [],
   "source": [
    "x = 'Hello prem'\n",
    "print('ell' in x)#T\n",
    "print('op' in x)#F\n",
    "print('er' in x)#F\n",
    "print('op' not in x)#T\n",
    "print(' ' in x)#T\n",
    "print(' ' not in x)#F"
   ]
  },
  {
   "cell_type": "code",
   "execution_count": null,
   "metadata": {},
   "outputs": [],
   "source": []
  },
  {
   "cell_type": "code",
   "execution_count": null,
   "metadata": {},
   "outputs": [],
   "source": []
  }
 ],
 "metadata": {
  "kernelspec": {
   "display_name": "Python 3",
   "language": "python",
   "name": "python3"
  },
  "language_info": {
   "codemirror_mode": {
    "name": "ipython",
    "version": 3
   },
   "file_extension": ".py",
   "mimetype": "text/x-python",
   "name": "python",
   "nbconvert_exporter": "python",
   "pygments_lexer": "ipython3",
   "version": "3.9.5"
  }
 },
 "nbformat": 4,
 "nbformat_minor": 4
}
