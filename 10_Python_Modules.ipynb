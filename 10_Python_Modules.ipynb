{
 "cells": [
  {
   "cell_type": "markdown",
   "metadata": {},
   "source": [
    "## Modules\n",
    "\n",
    "* Keywords:\n",
    "    * import\n",
    "    * as\n",
    "    * from"
   ]
  },
  {
   "cell_type": "markdown",
   "metadata": {},
   "source": [
    "### Using modules\n",
    "\n",
    "* We use the keyword import\n",
    "* 4 ways to use it:\n",
    "  * import math\n",
    "      * Usage after importing:\n",
    "            \n",
    "             print(math.ceil(10.4))\n",
    "             \n",
    "  * import math as m\n",
    "      * Usage after importing: Renaming the module\n",
    "            \n",
    "             print(m.ceil(10.4))\n",
    "             \n",
    "  * from math import ceil\n",
    "      * Usage after importing: Can use only the function imported from module\n",
    "            \n",
    "             print(ceil(10.4))\n",
    "  \n",
    "  * from math import *\n",
    "      * Usage after importing: Can use all function inside module\n",
    "            \n",
    "             print(ceil(10.4))\n",
    "             \n",
    "             print(floor(10.2))\n",
    "             \n",
    "             print(sqrt(4))"
   ]
  },
  {
   "cell_type": "code",
   "execution_count": null,
   "metadata": {},
   "outputs": [],
   "source": [
    "%whos"
   ]
  },
  {
   "cell_type": "code",
   "execution_count": null,
   "metadata": {},
   "outputs": [],
   "source": [
    "import math"
   ]
  },
  {
   "cell_type": "code",
   "execution_count": null,
   "metadata": {},
   "outputs": [],
   "source": [
    "%whos"
   ]
  },
  {
   "cell_type": "code",
   "execution_count": null,
   "metadata": {},
   "outputs": [],
   "source": [
    "print(type(math))"
   ]
  },
  {
   "cell_type": "code",
   "execution_count": null,
   "metadata": {},
   "outputs": [],
   "source": [
    "dir(math)"
   ]
  },
  {
   "cell_type": "code",
   "execution_count": null,
   "metadata": {},
   "outputs": [],
   "source": [
    "#help(math)"
   ]
  },
  {
   "cell_type": "code",
   "execution_count": null,
   "metadata": {},
   "outputs": [],
   "source": [
    "from math import factorial as f"
   ]
  },
  {
   "cell_type": "code",
   "execution_count": null,
   "metadata": {},
   "outputs": [],
   "source": [
    "print(f(5))"
   ]
  },
  {
   "cell_type": "code",
   "execution_count": null,
   "metadata": {},
   "outputs": [],
   "source": [
    "%whos"
   ]
  },
  {
   "cell_type": "code",
   "execution_count": null,
   "metadata": {},
   "outputs": [],
   "source": [
    "a = math.factorial(4)\n",
    "print(a)\n",
    "b = math.pi\n",
    "print(b)"
   ]
  },
  {
   "cell_type": "code",
   "execution_count": null,
   "metadata": {},
   "outputs": [],
   "source": [
    "# Restart kernel before running next blocks\n",
    "%whos"
   ]
  },
  {
   "cell_type": "code",
   "execution_count": null,
   "metadata": {},
   "outputs": [],
   "source": [
    "import math as m"
   ]
  },
  {
   "cell_type": "code",
   "execution_count": null,
   "metadata": {},
   "outputs": [],
   "source": [
    "%whos"
   ]
  },
  {
   "cell_type": "code",
   "execution_count": null,
   "metadata": {},
   "outputs": [],
   "source": [
    "a = m.factorial(4)\n",
    "print(a)\n",
    "b = m.pi\n",
    "print(b)"
   ]
  },
  {
   "cell_type": "code",
   "execution_count": null,
   "metadata": {},
   "outputs": [],
   "source": [
    "# Restart kernel before running next blocks\n",
    "%whos"
   ]
  },
  {
   "cell_type": "code",
   "execution_count": null,
   "metadata": {},
   "outputs": [],
   "source": [
    "from math import factorial as fact\n",
    "from math import sqrt\n",
    "from math import pi"
   ]
  },
  {
   "cell_type": "code",
   "execution_count": null,
   "metadata": {},
   "outputs": [],
   "source": [
    "%whos"
   ]
  },
  {
   "cell_type": "code",
   "execution_count": null,
   "metadata": {},
   "outputs": [],
   "source": [
    "a = fact(4)\n",
    "print(a)\n",
    "b = pi\n",
    "print(b)"
   ]
  },
  {
   "cell_type": "code",
   "execution_count": null,
   "metadata": {},
   "outputs": [],
   "source": [
    "# Restart kernel before running next blocks\n",
    "%whos"
   ]
  },
  {
   "cell_type": "code",
   "execution_count": null,
   "metadata": {},
   "outputs": [],
   "source": [
    "from math import *"
   ]
  },
  {
   "cell_type": "code",
   "execution_count": null,
   "metadata": {
    "scrolled": true
   },
   "outputs": [],
   "source": [
    "%whos"
   ]
  },
  {
   "cell_type": "markdown",
   "metadata": {},
   "source": [
    "### Random Module"
   ]
  },
  {
   "cell_type": "markdown",
   "metadata": {},
   "source": [
    "<h2 style=\"color:navy\" align=\"center\">1. choice() :- </h2>\n",
    "<h3 style=\"color:green\">choice()  is an inbuilt function in the Python programming language that returns <br>a random item from a list, tuple, or string.</h3>"
   ]
  },
  {
   "cell_type": "code",
   "execution_count": null,
   "metadata": {},
   "outputs": [],
   "source": [
    "# choice() method\n",
    "# import random\n",
    "import random\n",
    " \n",
    "# prints a random value from the list\n",
    "list1 = [1, 2, 3, 4, 5, 6]\n",
    "print(\"\\t\\t\",random.choice(list1))\n",
    " \n",
    "# prints a random item from the string\n",
    "string = \"striver\"\n",
    "print(\"\\t\\t\",random.choice(string))\n",
    "\n",
    "print(\"\\t\\t\",random.choice(list(range(1,6))))"
   ]
  },
  {
   "cell_type": "markdown",
   "metadata": {},
   "source": [
    "<h2 style=\"color:navy\" align=\"center\">2. randrange(start, stop, step):-</h2>\n",
    "<h3 style=\"color:green\">The random module offers a function that can generate random numbers from a <br>specified range and also allowing rooms for steps to be included, called randrange().</h3>"
   ]
  },
  {
   "cell_type": "code",
   "execution_count": null,
   "metadata": {},
   "outputs": [],
   "source": [
    "for i in range(5):\n",
    "    if i>0:\n",
    "        print(\"????\")\n",
    "    else:\n",
    "        print(i)"
   ]
  },
  {
   "cell_type": "code",
   "execution_count": null,
   "metadata": {
    "scrolled": true
   },
   "outputs": [],
   "source": [
    "f=1\n",
    "n=6\n",
    "\n",
    "for i in range(1,n+1):\n",
    "    f=f*i\n"
   ]
  },
  {
   "cell_type": "code",
   "execution_count": null,
   "metadata": {},
   "outputs": [],
   "source": [
    "s=[]\n",
    "for i in range(5):\n",
    "    s.append((i,i**2))\n",
    "s"
   ]
  },
  {
   "cell_type": "code",
   "execution_count": null,
   "metadata": {},
   "outputs": [],
   "source": [
    "def hh(*a):\n",
    "    return a\n",
    "l1=[1,2,3,4]\n",
    "l2=[1,2,3,4]\n",
    "#hh(l1,l2)\n",
    "hh(l1)\n",
    "#hh(1,2,3,4)"
   ]
  },
  {
   "cell_type": "code",
   "execution_count": null,
   "metadata": {},
   "outputs": [],
   "source": [
    "s='hello'\n",
    "s[-1]\n",
    "# print(s[-1::-1])\n",
    "print(s[-3:-1])\n",
    "# print(s[-1:-6:-1])\n",
    "# print(s[1:4])"
   ]
  },
  {
   "cell_type": "code",
   "execution_count": null,
   "metadata": {},
   "outputs": [],
   "source": [
    "# using random() to generate a random number\n",
    "# between 0 and 1\n",
    "print(random.random())"
   ]
  },
  {
   "cell_type": "code",
   "execution_count": null,
   "metadata": {},
   "outputs": [],
   "source": [
    "import random\n",
    "\n",
    "a = random.randrange(1,20+1)\n",
    "print(\"Random number between given range :\",a)\n",
    "\n",
    "# s = random.randrange('a', 'z')\n",
    "# print(\"Random number between given range :\",s)"
   ]
  },
  {
   "cell_type": "markdown",
   "metadata": {},
   "source": [
    "<h2 style=\"color:navy\" align=\"center\">3. shuffle():- </h2> \n",
    "<h3 style=\"color:green\" >It is used to shuffle a sequence (list). Shuffling means changing the position of the<br> elements of the sequence. </h3>"
   ]
  },
  {
   "cell_type": "code",
   "execution_count": null,
   "metadata": {
    "scrolled": true
   },
   "outputs": [],
   "source": [
    "a = [1,2,3,4,5,6]\n",
    "print(\"Original :\",a)\n",
    "print()\n",
    "# first shuffle\n",
    "random.shuffle(a)\n",
    "print(\"After the first shuffle :\",a)\n",
    "print()\n",
    "# second shuffle\n",
    "random.shuffle(a)\n",
    "print(\"After the second shuffle :\",a)"
   ]
  },
  {
   "cell_type": "markdown",
   "metadata": {},
   "source": [
    "<h2 style=\"color:navy\" align=\"center\">sample(iterable,lenth_of_sample):- </h2>"
   ]
  },
  {
   "cell_type": "code",
   "execution_count": null,
   "metadata": {
    "scrolled": true
   },
   "outputs": [],
   "source": [
    "\n",
    "a = [1,2,3,4,5,6]\n",
    "b = random.sample(a,3)\n",
    "print(b)"
   ]
  },
  {
   "cell_type": "code",
   "execution_count": null,
   "metadata": {},
   "outputs": [],
   "source": [
    "d={'b':1,'a':2,'c':4,'d':5}\n",
    "print(d)"
   ]
  },
  {
   "cell_type": "markdown",
   "metadata": {},
   "source": [
    "<h2 style=\"color:navy\" align=\"center\"> 4. uniform(a, b):- </h2> \n",
    "<h3 style=\"color:green\" >This function is used to generate a floating point random number between the numbers <br>mentioned in its arguments. It takes two arguments, lower limit(included in generation) and upper limit(not included in generation). </h3>"
   ]
  },
  {
   "cell_type": "code",
   "execution_count": null,
   "metadata": {},
   "outputs": [],
   "source": [
    "print(\"The random floating point number between 5 and 10 is : \", end=\"\")\n",
    "\n",
    "print(random.uniform(5, 10))"
   ]
  },
  {
   "cell_type": "markdown",
   "metadata": {},
   "source": [
    "<h2 style=\"color:navy\" align=\"center\"> randint(start, end) </h2> \n",
    "<h3 style=\"color:green\" align=\"center\">randint accepts two parameters: a starting point and an ending point. Both should be integers . It gives output in integers</h3>"
   ]
  },
  {
   "cell_type": "code",
   "execution_count": null,
   "metadata": {},
   "outputs": [],
   "source": [
    "random.randint(1, 6)"
   ]
  },
  {
   "cell_type": "markdown",
   "metadata": {},
   "source": [
    "<h3 style=\"color:green\" align=\"center\">task :Generate random numbers within a given range and store in a list</h3>"
   ]
  },
  {
   "cell_type": "code",
   "execution_count": null,
   "metadata": {},
   "outputs": [],
   "source": [
    "import random \n",
    "  \n",
    "# Function to generate \n",
    "# and append them  \n",
    "# start = starting range, \n",
    "# end = ending range \n",
    "# num = number of elements needs to be appended \n",
    "def Rand(start, end, num): \n",
    "    res = [] \n",
    "  \n",
    "    for j in range(num): \n",
    "        res.append(random.randrange(start, end))\n",
    "                #or\n",
    "       # res.append(random.randint(start, end)) \n",
    "  \n",
    "    return res \n",
    "  \n",
    "num = 10\n",
    "start = 20\n",
    "end = 40\n",
    "print(Rand(start, end, num)) "
   ]
  },
  {
   "cell_type": "markdown",
   "metadata": {},
   "source": [
    "<h2 style=\"color:navy\" align=\"center\">: : Guess Game : : </h2>"
   ]
  },
  {
   "cell_type": "code",
   "execution_count": null,
   "metadata": {},
   "outputs": [],
   "source": [
    "def Guess_Game():\n",
    "    import random\n",
    "    print(\"If entered number will  match then you will get a Surprise gift :\")\n",
    "    r = random.randint(0,5)\n",
    "    c=int(input(\"Enter how many chances you want :\"))\n",
    "    i=0\n",
    "    while i<c:\n",
    "        i+=1\n",
    "        n = int(input(\"Guess any Number between 1 to 5 :\"))\n",
    "        if n < 0 or n>5:\n",
    "            return \"You have entered an Invalid Number , Now you will regret --\"\n",
    "        elif n == r :\n",
    "            return \"Yeeeh! Your Guess is matched , you won a Smile ☻\"\n",
    "            break\n",
    "        else:\n",
    "            print (\"Sorry ,your guess is not matched ☺\")\n",
    "        \n",
    "    else:\n",
    "        return \"Better luck next time :\"\n",
    "Guess_Game()            "
   ]
  },
  {
   "cell_type": "markdown",
   "metadata": {},
   "source": [
    "<h2 style=\"color:navy\" align=\"center\">Date module </h2>"
   ]
  },
  {
   "cell_type": "code",
   "execution_count": null,
   "metadata": {},
   "outputs": [],
   "source": [
    "import datetime \n",
    "from datetime import date \n",
    "import time\n",
    "\n",
    "datetime_object = datetime.datetime.now()\n",
    "print(datetime_object)\n",
    "\n",
    "date_object = datetime.date.today()\n",
    "print(date_object)\n",
    "\n",
    "# print(dir(datetime))\n",
    "\n",
    "d = datetime.date(2019, 4, 13)\n",
    "print(d)\n",
    "\n",
    "a = date(2019, 4, 13)\n",
    "print(a)\n",
    "\n",
    "today = date.today()\n",
    "\n",
    "print(\"Current date =\", today)"
   ]
  },
  {
   "cell_type": "code",
   "execution_count": null,
   "metadata": {},
   "outputs": [],
   "source": [
    "today = date.today() \n",
    "\n",
    "print(\"Current year:\", today.year)\n",
    "print(\"Current month:\", today.month)\n",
    "print(\"Current day:\", today.day)"
   ]
  },
  {
   "cell_type": "code",
   "execution_count": null,
   "metadata": {},
   "outputs": [],
   "source": [
    "import os\n",
    "\n",
    "#Returns the current working directory.\n",
    "os.getcwd()   \n"
   ]
  },
  {
   "cell_type": "code",
   "execution_count": 1,
   "metadata": {},
   "outputs": [
    {
     "name": "stdout",
     "output_type": "stream",
     "text": [
      "The calender of year 2019 is : \n",
      "                               2021\n",
      "\n",
      "\n",
      "\n",
      "      January                February                March\n",
      "\n",
      "Mo Tu We Th Fr Sa Su   Mo Tu We Th Fr Sa Su   Mo Tu We Th Fr Sa Su\n",
      "\n",
      "             1  2  3    1  2  3  4  5  6  7    1  2  3  4  5  6  7\n",
      "\n",
      " 4  5  6  7  8  9 10    8  9 10 11 12 13 14    8  9 10 11 12 13 14\n",
      "\n",
      "11 12 13 14 15 16 17   15 16 17 18 19 20 21   15 16 17 18 19 20 21\n",
      "\n",
      "18 19 20 21 22 23 24   22 23 24 25 26 27 28   22 23 24 25 26 27 28\n",
      "\n",
      "25 26 27 28 29 30 31                          29 30 31\n",
      "\n",
      "\n",
      "\n",
      "       April                   May                    June\n",
      "\n",
      "Mo Tu We Th Fr Sa Su   Mo Tu We Th Fr Sa Su   Mo Tu We Th Fr Sa Su\n",
      "\n",
      "          1  2  3  4                   1  2       1  2  3  4  5  6\n",
      "\n",
      " 5  6  7  8  9 10 11    3  4  5  6  7  8  9    7  8  9 10 11 12 13\n",
      "\n",
      "12 13 14 15 16 17 18   10 11 12 13 14 15 16   14 15 16 17 18 19 20\n",
      "\n",
      "19 20 21 22 23 24 25   17 18 19 20 21 22 23   21 22 23 24 25 26 27\n",
      "\n",
      "26 27 28 29 30         24 25 26 27 28 29 30   28 29 30\n",
      "\n",
      "                       31\n",
      "\n",
      "\n",
      "\n",
      "        July                  August               September\n",
      "\n",
      "Mo Tu We Th Fr Sa Su   Mo Tu We Th Fr Sa Su   Mo Tu We Th Fr Sa Su\n",
      "\n",
      "          1  2  3  4                      1          1  2  3  4  5\n",
      "\n",
      " 5  6  7  8  9 10 11    2  3  4  5  6  7  8    6  7  8  9 10 11 12\n",
      "\n",
      "12 13 14 15 16 17 18    9 10 11 12 13 14 15   13 14 15 16 17 18 19\n",
      "\n",
      "19 20 21 22 23 24 25   16 17 18 19 20 21 22   20 21 22 23 24 25 26\n",
      "\n",
      "26 27 28 29 30 31      23 24 25 26 27 28 29   27 28 29 30\n",
      "\n",
      "                       30 31\n",
      "\n",
      "\n",
      "\n",
      "      October                November               December\n",
      "\n",
      "Mo Tu We Th Fr Sa Su   Mo Tu We Th Fr Sa Su   Mo Tu We Th Fr Sa Su\n",
      "\n",
      "             1  2  3    1  2  3  4  5  6  7          1  2  3  4  5\n",
      "\n",
      " 4  5  6  7  8  9 10    8  9 10 11 12 13 14    6  7  8  9 10 11 12\n",
      "\n",
      "11 12 13 14 15 16 17   15 16 17 18 19 20 21   13 14 15 16 17 18 19\n",
      "\n",
      "18 19 20 21 22 23 24   22 23 24 25 26 27 28   20 21 22 23 24 25 26\n",
      "\n",
      "25 26 27 28 29 30 31   29 30                  27 28 29 30 31\n",
      "\n",
      "\n",
      "The starting day number in calendar is : 0\n",
      "The year is leap\n",
      "The leap days between 1950 and 2000 are : 12\n",
      "The month 5th of 2016 is :\n",
      "      May 2016\n",
      "Mo Tu We Th Fr Sa Su\n",
      "                   1\n",
      " 2  3  4  5  6  7  8\n",
      " 9 10 11 12 13 14 15\n",
      "16 17 18 19 20 21 22\n",
      "23 24 25 26 27 28 29\n",
      "30 31\n",
      "\n"
     ]
    }
   ],
   "source": [
    "import calendar\n",
    "\n",
    "print (\"The calender of year 2019 is : \") \n",
    "print (calendar.calendar(2021,2,2,3))\n",
    "\n",
    "print (\"The starting day number in calendar is : \",end=\"\") \n",
    "print (calendar.firstweekday()) \n",
    "\n",
    "if (calendar.isleap(2008)): \n",
    "       print (\"The year is leap\") \n",
    "else : \n",
    "    print (\"The year is not leap\")\n",
    "    \n",
    "print (\"The leap days between 1950 and 2000 are : \",end=\"\") \n",
    "print (calendar.leapdays(1950, 2000)) \n",
    "\n",
    "print (\"The month 5th of 2016 is :\") \n",
    "print (calendar.month(2016,5,2,1)) "
   ]
  },
  {
   "cell_type": "code",
   "execution_count": 1,
   "metadata": {
    "scrolled": true
   },
   "outputs": [
    {
     "name": "stdout",
     "output_type": "stream",
     "text": [
      "0\n",
      "1\n",
      "2\n",
      "3\n",
      "4\n"
     ]
    }
   ],
   "source": [
    "for i in range(5):\n",
    "    print(i)"
   ]
  },
  {
   "cell_type": "code",
   "execution_count": 2,
   "metadata": {},
   "outputs": [
    {
     "name": "stdout",
     "output_type": "stream",
     "text": [
      "0 1 2 3 4 5 \n",
      "0 1 2 3 4 5 "
     ]
    }
   ],
   "source": [
    "import time\n",
    "# we cant see here\n",
    "for i in range(6):\n",
    "    print(i,end=\" \")\n",
    "print()\n",
    "#Now we can see \n",
    "for i in range(6):\n",
    "    time.sleep(1.5)\n",
    "    print(i,end=\" \")"
   ]
  },
  {
   "cell_type": "code",
   "execution_count": 9,
   "metadata": {},
   "outputs": [],
   "source": [
    "import time\n",
    "import sys\n",
    "import random\n",
    "\n",
    "\n",
    "def funky_typing(message):\n",
    "    for c in message:\n",
    "        print(c,end='')\n",
    "\n",
    "        time.sleep(0.8 * random.random())\n",
    "\n",
    "\n",
    "def fast_typing(message):\n",
    "    for c in message:\n",
    "        print(c,end='')\n",
    "        time.sleep(0.005)\n",
    "        \n",
    "def slow_typing(msz):\n",
    "    for c in msz:\n",
    "        print(c,end=\"\")\n",
    "        time.sleep(0.7)\n"
   ]
  },
  {
   "cell_type": "code",
   "execution_count": 4,
   "metadata": {},
   "outputs": [
    {
     "name": "stdout",
     "output_type": "stream",
     "text": [
      "1 1 1 1 1 1 1 1 1 1 1 1 1 1 1 1 1 1 1 1 1 1 1 1 1 1 1 1 1 1 1 1 1 1 1 1 1 1 1 1 1 1 1 1 1 1 1 1 1 1 "
     ]
    }
   ],
   "source": [
    "funky_typing(\"1 \"*50)"
   ]
  },
  {
   "cell_type": "code",
   "execution_count": 7,
   "metadata": {},
   "outputs": [
    {
     "name": "stdout",
     "output_type": "stream",
     "text": [
      "== == == == == == == == == == == == == == == == == == == == "
     ]
    }
   ],
   "source": [
    "fast_typing(\"== \"*20)"
   ]
  },
  {
   "cell_type": "code",
   "execution_count": 10,
   "metadata": {},
   "outputs": [
    {
     "name": "stdout",
     "output_type": "stream",
     "text": [
      " Funcky 'here you can notice no symmetry between printing'"
     ]
    }
   ],
   "source": [
    "funky_typing(\" Funcky 'here you can notice no symmetry between printing'\")"
   ]
  },
  {
   "cell_type": "code",
   "execution_count": null,
   "metadata": {},
   "outputs": [],
   "source": [
    "slow_typing('I am Slow and i Love it ')"
   ]
  },
  {
   "cell_type": "code",
   "execution_count": null,
   "metadata": {},
   "outputs": [],
   "source": [
    "#sys module\n",
    "import sys"
   ]
  },
  {
   "cell_type": "code",
   "execution_count": null,
   "metadata": {},
   "outputs": [],
   "source": [
    "print(sys.argv)\n",
    "print(sys.exit())"
   ]
  },
  {
   "cell_type": "code",
   "execution_count": null,
   "metadata": {},
   "outputs": [],
   "source": [
    "print(not sys)\n",
    "print(sys.flags)\n",
    "print(sys.prefix)"
   ]
  },
  {
   "cell_type": "code",
   "execution_count": null,
   "metadata": {},
   "outputs": [],
   "source": [
    " for element in sys.path:\n",
    "        print(element)"
   ]
  },
  {
   "cell_type": "code",
   "execution_count": null,
   "metadata": {},
   "outputs": [],
   "source": [
    "print(sys.path)"
   ]
  },
  {
   "cell_type": "code",
   "execution_count": null,
   "metadata": {},
   "outputs": [],
   "source": [
    "import os"
   ]
  },
  {
   "cell_type": "code",
   "execution_count": null,
   "metadata": {},
   "outputs": [],
   "source": [
    "print(os.getcwd())\n",
    "print(os.name)\n",
    "print()\n",
    "print(os.environ)\n",
    "print()\n",
    "print(os.getppid())"
   ]
  },
  {
   "cell_type": "code",
   "execution_count": null,
   "metadata": {},
   "outputs": [],
   "source": []
  },
  {
   "cell_type": "code",
   "execution_count": null,
   "metadata": {},
   "outputs": [],
   "source": []
  },
  {
   "cell_type": "code",
   "execution_count": null,
   "metadata": {},
   "outputs": [],
   "source": []
  },
  {
   "cell_type": "code",
   "execution_count": null,
   "metadata": {},
   "outputs": [],
   "source": []
  }
 ],
 "metadata": {
  "kernelspec": {
   "display_name": "Python 3",
   "language": "python",
   "name": "python3"
  },
  "language_info": {
   "codemirror_mode": {
    "name": "ipython",
    "version": 3
   },
   "file_extension": ".py",
   "mimetype": "text/x-python",
   "name": "python",
   "nbconvert_exporter": "python",
   "pygments_lexer": "ipython3",
   "version": "3.9.5"
  }
 },
 "nbformat": 4,
 "nbformat_minor": 2
}
