{
 "cells": [
  {
   "cell_type": "code",
   "execution_count": null,
   "metadata": {},
   "outputs": [],
   "source": [
    "d= {'Key1':'Value1','Key2':'Value2','Key3':'Value3'}\n",
    "op={}\n",
    "for k,v in d.items():\n",
    "    print(k,v)\n",
    "    op[v]=d[k]\n",
    "op"
   ]
  },
  {
   "cell_type": "code",
   "execution_count": null,
   "metadata": {},
   "outputs": [],
   "source": [
    "d= {'Key1':'Value1','Key2':'Value2','Key3':'Value1'}\n",
    "op={}\n",
    "for k,v in d.items():\n",
    "    print(k,v)\n",
    "    if v not in op:\n",
    "        op[v]=[k]\n",
    "    else:\n",
    "        op[v].append(k)\n",
    "op"
   ]
  },
  {
   "cell_type": "markdown",
   "metadata": {},
   "source": [
    "## Functions\n",
    "\n",
    "* Built-in Functions\n",
    "* User Defined Functions"
   ]
  },
  {
   "cell_type": "markdown",
   "metadata": {},
   "source": [
    "### Built-in Functions"
   ]
  },
  {
   "cell_type": "code",
   "execution_count": 1,
   "metadata": {},
   "outputs": [
    {
     "name": "stdout",
     "output_type": "stream",
     "text": [
      "['ArithmeticError', 'AssertionError', 'AttributeError', 'BaseException', 'BlockingIOError', 'BrokenPipeError', 'BufferError', 'BytesWarning', 'ChildProcessError', 'ConnectionAbortedError', 'ConnectionError', 'ConnectionRefusedError', 'ConnectionResetError', 'DeprecationWarning', 'EOFError', 'Ellipsis', 'EnvironmentError', 'Exception', 'False', 'FileExistsError', 'FileNotFoundError', 'FloatingPointError', 'FutureWarning', 'GeneratorExit', 'IOError', 'ImportError', 'ImportWarning', 'IndentationError', 'IndexError', 'InterruptedError', 'IsADirectoryError', 'KeyError', 'KeyboardInterrupt', 'LookupError', 'MemoryError', 'ModuleNotFoundError', 'NameError', 'None', 'NotADirectoryError', 'NotImplemented', 'NotImplementedError', 'OSError', 'OverflowError', 'PendingDeprecationWarning', 'PermissionError', 'ProcessLookupError', 'RecursionError', 'ReferenceError', 'ResourceWarning', 'RuntimeError', 'RuntimeWarning', 'StopAsyncIteration', 'StopIteration', 'SyntaxError', 'SyntaxWarning', 'SystemError', 'SystemExit', 'TabError', 'TimeoutError', 'True', 'TypeError', 'UnboundLocalError', 'UnicodeDecodeError', 'UnicodeEncodeError', 'UnicodeError', 'UnicodeTranslateError', 'UnicodeWarning', 'UserWarning', 'ValueError', 'Warning', 'WindowsError', 'ZeroDivisionError', '__IPYTHON__', '__build_class__', '__debug__', '__doc__', '__import__', '__loader__', '__name__', '__package__', '__spec__', 'abs', 'all', 'any', 'ascii', 'bin', 'bool', 'breakpoint', 'bytearray', 'bytes', 'callable', 'chr', 'classmethod', 'compile', 'complex', 'copyright', 'credits', 'delattr', 'dict', 'dir', 'display', 'divmod', 'enumerate', 'eval', 'exec', 'filter', 'float', 'format', 'frozenset', 'get_ipython', 'getattr', 'globals', 'hasattr', 'hash', 'help', 'hex', 'id', 'input', 'int', 'isinstance', 'issubclass', 'iter', 'len', 'license', 'list', 'locals', 'map', 'max', 'memoryview', 'min', 'next', 'object', 'oct', 'open', 'ord', 'pow', 'print', 'property', 'range', 'repr', 'reversed', 'round', 'set', 'setattr', 'slice', 'sorted', 'staticmethod', 'str', 'sum', 'super', 'tuple', 'type', 'vars', 'zip']\n"
     ]
    }
   ],
   "source": [
    "print(dir(__builtins__))"
   ]
  },
  {
   "cell_type": "code",
   "execution_count": 2,
   "metadata": {},
   "outputs": [
    {
     "name": "stdout",
     "output_type": "stream",
     "text": [
      "Help on built-in function max in module builtins:\n",
      "\n",
      "max(...)\n",
      "    max(iterable, *[, default=obj, key=func]) -> value\n",
      "    max(arg1, arg2, *args, *[, key=func]) -> value\n",
      "    \n",
      "    With a single iterable argument, return its biggest item. The\n",
      "    default keyword-only argument specifies an object to return if\n",
      "    the provided iterable is empty.\n",
      "    With two or more arguments, return the largest argument.\n",
      "\n",
      "Help on built-in function min in module builtins:\n",
      "\n",
      "min(...)\n",
      "    min(iterable, *[, default=obj, key=func]) -> value\n",
      "    min(arg1, arg2, *args, *[, key=func]) -> value\n",
      "    \n",
      "    With a single iterable argument, return its smallest item. The\n",
      "    default keyword-only argument specifies an object to return if\n",
      "    the provided iterable is empty.\n",
      "    With two or more arguments, return the smallest argument.\n",
      "\n"
     ]
    }
   ],
   "source": [
    "help(max)\n",
    "help(min)"
   ]
  },
  {
   "cell_type": "code",
   "execution_count": null,
   "metadata": {},
   "outputs": [],
   "source": [
    "# Without sort function\n",
    "a = [13,42,121,41,21,41,21]\n"
   ]
  },
  {
   "cell_type": "code",
   "execution_count": 6,
   "metadata": {},
   "outputs": [
    {
     "name": "stdout",
     "output_type": "stream",
     "text": [
      "[13, 21, 21, 41, 41, 42, 121]\n",
      "min : 13\n",
      "max : 121\n"
     ]
    }
   ],
   "source": [
    "# Without max min function\n",
    "a = [13,42,121,41,21,41,21]\n",
    "a.sort()\n",
    "print(a)\n",
    "print(\"min :\",a[0])\n",
    "print(\"max :\",a[len(a)-1])"
   ]
  },
  {
   "cell_type": "code",
   "execution_count": 3,
   "metadata": {
    "scrolled": true
   },
   "outputs": [
    {
     "name": "stdout",
     "output_type": "stream",
     "text": [
      "50\n",
      "10\n"
     ]
    }
   ],
   "source": [
    "# You can pass multiple values to max and min functions\n",
    "print(max(10,20,30,40,50))\n",
    "print(min(10,20,30,40,50))"
   ]
  },
  {
   "cell_type": "code",
   "execution_count": 7,
   "metadata": {},
   "outputs": [
    {
     "name": "stdout",
     "output_type": "stream",
     "text": [
      "Y\n",
      "H\n"
     ]
    }
   ],
   "source": [
    "# You can also pass an iterable to max and min function\n",
    "# a = [13,42,121,41,21,41,21]\n",
    "# print(max(a))\n",
    "# print(min(a))\n",
    "a = 'PYTHON'\n",
    "print(max(a))\n",
    "print(min(a))"
   ]
  },
  {
   "cell_type": "code",
   "execution_count": 8,
   "metadata": {},
   "outputs": [
    {
     "ename": "TypeError",
     "evalue": "'>' not supported between instances of 'str' and 'int'",
     "output_type": "error",
     "traceback": [
      "\u001b[1;31m-----------------------------------------------------------------------\u001b[0m",
      "\u001b[1;31mTypeError\u001b[0m                             Traceback (most recent call last)",
      "\u001b[1;32m<ipython-input-8-c82f149cc948>\u001b[0m in \u001b[0;36m<module>\u001b[1;34m\u001b[0m\n\u001b[0;32m      1\u001b[0m \u001b[0ma\u001b[0m \u001b[1;33m=\u001b[0m \u001b[1;33m[\u001b[0m\u001b[1;36m13\u001b[0m\u001b[1;33m,\u001b[0m\u001b[1;36m42\u001b[0m\u001b[1;33m,\u001b[0m\u001b[1;36m121\u001b[0m\u001b[1;33m,\u001b[0m\u001b[1;34m\"PYTHON\"\u001b[0m\u001b[1;33m]\u001b[0m\u001b[1;33m\u001b[0m\u001b[1;33m\u001b[0m\u001b[0m\n\u001b[1;32m----> 2\u001b[1;33m \u001b[0mprint\u001b[0m\u001b[1;33m(\u001b[0m\u001b[0mmax\u001b[0m\u001b[1;33m(\u001b[0m\u001b[0ma\u001b[0m\u001b[1;33m)\u001b[0m\u001b[1;33m)\u001b[0m\u001b[1;33m\u001b[0m\u001b[1;33m\u001b[0m\u001b[0m\n\u001b[0m\u001b[0;32m      3\u001b[0m \u001b[0mprint\u001b[0m\u001b[1;33m(\u001b[0m\u001b[0mmin\u001b[0m\u001b[1;33m(\u001b[0m\u001b[0ma\u001b[0m\u001b[1;33m)\u001b[0m\u001b[1;33m)\u001b[0m\u001b[1;33m\u001b[0m\u001b[1;33m\u001b[0m\u001b[0m\n",
      "\u001b[1;31mTypeError\u001b[0m: '>' not supported between instances of 'str' and 'int'"
     ]
    }
   ],
   "source": [
    "a = [13,42,121,\"PYTHON\"]\n",
    "print(max(a))\n",
    "print(min(a))"
   ]
  },
  {
   "cell_type": "code",
   "execution_count": 11,
   "metadata": {},
   "outputs": [
    {
     "name": "stdout",
     "output_type": "stream",
     "text": [
      "Help on built-in function sum in module builtins:\n",
      "\n",
      "sum(iterable, /, start=0)\n",
      "    Return the sum of a 'start' value (default: 0) plus an iterable of numbers\n",
      "    \n",
      "    When the iterable is empty, return the start value.\n",
      "    This function is intended specifically for use with numeric values and may\n",
      "    reject non-numeric types.\n",
      "\n"
     ]
    }
   ],
   "source": [
    "help(sum)"
   ]
  },
  {
   "cell_type": "code",
   "execution_count": 10,
   "metadata": {},
   "outputs": [
    {
     "name": "stdout",
     "output_type": "stream",
     "text": [
      "100\n"
     ]
    }
   ],
   "source": [
    "# Below Statement will give an Error as sum takes an iterable as an argument\n",
    "#print(sum(10,20,30,40))\n",
    "\n",
    "print(sum([10,20,30,40]))"
   ]
  },
  {
   "cell_type": "code",
   "execution_count": 12,
   "metadata": {},
   "outputs": [
    {
     "name": "stdout",
     "output_type": "stream",
     "text": [
      "200\n"
     ]
    }
   ],
   "source": [
    "print(sum([10,20,30,40],start=100))"
   ]
  },
  {
   "cell_type": "code",
   "execution_count": 13,
   "metadata": {},
   "outputs": [
    {
     "name": "stdout",
     "output_type": "stream",
     "text": [
      "1200\n"
     ]
    }
   ],
   "source": [
    "print(sum([10,20,30,40,50,50], start=1000))"
   ]
  },
  {
   "cell_type": "code",
   "execution_count": 17,
   "metadata": {},
   "outputs": [
    {
     "name": "stdout",
     "output_type": "stream",
     "text": [
      "Help on built-in function sorted in module builtins:\n",
      "\n",
      "sorted(iterable, /, *, key=None, reverse=False)\n",
      "    Return a new list containing all items from the iterable in ascending order.\n",
      "    \n",
      "    A custom key function can be supplied to customize the sort order, and the\n",
      "    reverse flag can be set to request the result in descending order.\n",
      "\n"
     ]
    }
   ],
   "source": [
    "help(sorted)"
   ]
  },
  {
   "cell_type": "code",
   "execution_count": 16,
   "metadata": {},
   "outputs": [
    {
     "name": "stdout",
     "output_type": "stream",
     "text": [
      "[13, 21, 21, 41, 41, 42, 121]\n",
      "[13, 42, 121, 41, 21, 41, 21]\n"
     ]
    }
   ],
   "source": [
    "a = [13,42,121,41,21,41,21]\n",
    "print(sorted(a))\n",
    "print(a)"
   ]
  },
  {
   "cell_type": "code",
   "execution_count": null,
   "metadata": {},
   "outputs": [],
   "source": [
    "#a.sort()"
   ]
  },
  {
   "cell_type": "code",
   "execution_count": 20,
   "metadata": {},
   "outputs": [
    {
     "name": "stdout",
     "output_type": "stream",
     "text": [
      "[4, 6, 10, 15, 19, 29, 29]\n",
      "[29, 29, 19, 15, 10, 6, 4]\n",
      "[19, 10, 4, 15, 29, 29, 6] 2298379724224\n"
     ]
    }
   ],
   "source": [
    "a = [19, 10, 4, 15, 29, 29, 6]\n",
    "\n",
    "# By default sorted returns a new list in ascending order\n",
    "b = sorted(a)\n",
    "print(b)\n",
    "# You can change the order of sorting using the reverse Keyword\n",
    "b = sorted(a,reverse=True)\n",
    "print(b)\n",
    "print(a,id(a))"
   ]
  },
  {
   "cell_type": "code",
   "execution_count": 22,
   "metadata": {},
   "outputs": [
    {
     "name": "stdout",
     "output_type": "stream",
     "text": [
      "['ze', 'abacacas', 'cdv', 'cdefg']\n",
      "['ze', 'cdv', 'cdefg', 'abacacas']\n",
      "['ze', 'cdv', 'cdefg', 'abacacas']\n"
     ]
    }
   ],
   "source": [
    "a = ['ze','abacacas','cdv','cdefg']\n",
    "print(a)\n",
    "b = sorted(a,key=len)\n",
    "print(b)\n",
    "b = sorted(a,reverse=True)\n",
    "print(b)"
   ]
  },
  {
   "cell_type": "code",
   "execution_count": null,
   "metadata": {},
   "outputs": [],
   "source": [
    "a = 'PYTHON'\n",
    "print(a)\n",
    "b = sorted(a)\n",
    "print(b)\n",
    "c = sorted(a,reverse=True)\n",
    "print(c)"
   ]
  },
  {
   "cell_type": "code",
   "execution_count": null,
   "metadata": {},
   "outputs": [],
   "source": [
    "# Using the 'key' argument in sorted function you can customize the sort order\n",
    "a = ['ze','abacacas','bdv','cdefg']\n",
    "print(a)\n",
    "b = sorted(a)\n",
    "print(b)\n",
    "# Sorting based on length of string\n",
    "b = sorted(a,key=len)\n",
    "print(b)"
   ]
  },
  {
   "cell_type": "code",
   "execution_count": 23,
   "metadata": {},
   "outputs": [
    {
     "name": "stdout",
     "output_type": "stream",
     "text": [
      "Help on built-in function eval in module builtins:\n",
      "\n",
      "eval(source, globals=None, locals=None, /)\n",
      "    Evaluate the given source in the context of globals and locals.\n",
      "    \n",
      "    The source may be a string representing a Python expression\n",
      "    or a code object as returned by compile().\n",
      "    The globals must be a dictionary and locals can be any mapping,\n",
      "    defaulting to the current globals and locals.\n",
      "    If only globals is given, locals defaults to it.\n",
      "\n"
     ]
    }
   ],
   "source": [
    "help(eval)"
   ]
  },
  {
   "cell_type": "code",
   "execution_count": 24,
   "metadata": {},
   "outputs": [
    {
     "name": "stdout",
     "output_type": "stream",
     "text": [
      "13\n"
     ]
    }
   ],
   "source": [
    "print('1'+'3') #"
   ]
  },
  {
   "cell_type": "code",
   "execution_count": 25,
   "metadata": {},
   "outputs": [
    {
     "name": "stdout",
     "output_type": "stream",
     "text": [
      "4\n",
      "<class 'int'>\n",
      "<built-in function len>\n"
     ]
    }
   ],
   "source": [
    "print(eval('1+3'))\n",
    "print(eval('int'))\n",
    "print(eval('len'))"
   ]
  },
  {
   "cell_type": "code",
   "execution_count": 26,
   "metadata": {},
   "outputs": [
    {
     "name": "stdout",
     "output_type": "stream",
     "text": [
      "3 <class 'int'>\n"
     ]
    }
   ],
   "source": [
    "b=eval('1+2')\n",
    "print(b,type(b))"
   ]
  },
  {
   "cell_type": "code",
   "execution_count": 27,
   "metadata": {},
   "outputs": [
    {
     "name": "stdout",
     "output_type": "stream",
     "text": [
      "112\n",
      "29\n",
      "4\n",
      "6\n"
     ]
    },
    {
     "data": {
      "text/plain": [
       "[19, 10, 4, 15, 29, 29]"
      ]
     },
     "execution_count": 27,
     "metadata": {},
     "output_type": "execute_result"
    }
   ],
   "source": [
    "a=[19, 10, 4, 15, 29, 29, 6]\n",
    "print(eval('sum(a)'))\n",
    "print(eval('max(a)'))\n",
    "print(eval('min(a)'))\n",
    "print(eval('a.pop()'))\n",
    "a"
   ]
  },
  {
   "cell_type": "code",
   "execution_count": 28,
   "metadata": {},
   "outputs": [
    {
     "ename": "TypeError",
     "evalue": "eval() arg 1 must be a string, bytes or code object",
     "output_type": "error",
     "traceback": [
      "\u001b[1;31m-----------------------------------------------------------------------\u001b[0m",
      "\u001b[1;31mTypeError\u001b[0m                             Traceback (most recent call last)",
      "\u001b[1;32m<ipython-input-28-b528ca408ef0>\u001b[0m in \u001b[0;36m<module>\u001b[1;34m\u001b[0m\n\u001b[1;32m----> 1\u001b[1;33m \u001b[0meval\u001b[0m\u001b[1;33m(\u001b[0m\u001b[1;36m4\u001b[0m\u001b[1;33m+\u001b[0m\u001b[1;36m2\u001b[0m\u001b[1;33m)\u001b[0m\u001b[1;33m\u001b[0m\u001b[1;33m\u001b[0m\u001b[0m\n\u001b[0m",
      "\u001b[1;31mTypeError\u001b[0m: eval() arg 1 must be a string, bytes or code object"
     ]
    }
   ],
   "source": [
    "eval(4+2)"
   ]
  },
  {
   "cell_type": "code",
   "execution_count": 29,
   "metadata": {},
   "outputs": [
    {
     "name": "stdout",
     "output_type": "stream",
     "text": [
      "[361, 100, 16, 225, 841, 841, 36]\n"
     ]
    }
   ],
   "source": [
    "a=[19, 10, 4, 15, 29, 29, 6]\n",
    "print(eval('[i**2 for i in a]'))"
   ]
  },
  {
   "cell_type": "code",
   "execution_count": 34,
   "metadata": {},
   "outputs": [
    {
     "name": "stdout",
     "output_type": "stream",
     "text": [
      "Help on class enumerate in module builtins:\n",
      "\n",
      "class enumerate(object)\n",
      " |  enumerate(iterable, start=0)\n",
      " |  \n",
      " |  Return an enumerate object.\n",
      " |  \n",
      " |    iterable\n",
      " |      an object supporting iteration\n",
      " |  \n",
      " |  The enumerate object yields pairs containing a count (from start, which\n",
      " |  defaults to zero) and a value yielded by the iterable argument.\n",
      " |  \n",
      " |  enumerate is useful for obtaining an indexed list:\n",
      " |      (0, seq[0]), (1, seq[1]), (2, seq[2]), ...\n",
      " |  \n",
      " |  Methods defined here:\n",
      " |  \n",
      " |  __getattribute__(self, name, /)\n",
      " |      Return getattr(self, name).\n",
      " |  \n",
      " |  __iter__(self, /)\n",
      " |      Implement iter(self).\n",
      " |  \n",
      " |  __next__(self, /)\n",
      " |      Implement next(self).\n",
      " |  \n",
      " |  __reduce__(...)\n",
      " |      Return state information for pickling.\n",
      " |  \n",
      " |  ----------------------------------------------------------------------\n",
      " |  Class methods defined here:\n",
      " |  \n",
      " |  __class_getitem__(...) from builtins.type\n",
      " |      See PEP 585\n",
      " |  \n",
      " |  ----------------------------------------------------------------------\n",
      " |  Static methods defined here:\n",
      " |  \n",
      " |  __new__(*args, **kwargs) from builtins.type\n",
      " |      Create and return a new object.  See help(type) for accurate signature.\n",
      "\n"
     ]
    }
   ],
   "source": [
    "help(enumerate)"
   ]
  },
  {
   "cell_type": "code",
   "execution_count": null,
   "metadata": {},
   "outputs": [],
   "source": [
    "a = 'PYTHON'\n",
    "{index:'p',index:'y'}"
   ]
  },
  {
   "cell_type": "code",
   "execution_count": 35,
   "metadata": {},
   "outputs": [
    {
     "name": "stdout",
     "output_type": "stream",
     "text": [
      "[(0, 'P'), (1, 'Y'), (2, 'T'), (3, 'H'), (4, 'O'), (5, 'N')]\n",
      "{0: 'P', 1: 'Y', 2: 'T', 3: 'H', 4: 'O', 5: 'N'}\n",
      "\n",
      "[(100, 'P'), (101, 'Y'), (102, 'T'), (103, 'H'), (104, 'O'), (105, 'N')]\n"
     ]
    }
   ],
   "source": [
    "a = 'PYTHON'\n",
    "b = list(enumerate(a))\n",
    "print(b)\n",
    "d= dict(b)\n",
    "print(d)\n",
    "print()\n",
    "b = list(enumerate(a,100))\n",
    "print(b)"
   ]
  },
  {
   "cell_type": "code",
   "execution_count": 36,
   "metadata": {},
   "outputs": [
    {
     "name": "stdout",
     "output_type": "stream",
     "text": [
      "(0, 'PYTHON')\n",
      "(1, 'JAVA')\n",
      "(2, 'PHP')\n"
     ]
    }
   ],
   "source": [
    "a = ['PYTHON','JAVA','PHP']\n",
    "\n",
    "for i in enumerate(a):\n",
    "    print(i)"
   ]
  },
  {
   "cell_type": "code",
   "execution_count": 37,
   "metadata": {},
   "outputs": [
    {
     "name": "stdout",
     "output_type": "stream",
     "text": [
      "(100, 'PYTHON')\n",
      "(101, 'JAVA')\n",
      "(102, 'PHP')\n"
     ]
    }
   ],
   "source": [
    "a = ['PYTHON','JAVA','PHP']\n",
    "\n",
    "for i in enumerate(a,100):\n",
    "    print(i)"
   ]
  },
  {
   "cell_type": "code",
   "execution_count": 42,
   "metadata": {},
   "outputs": [
    {
     "name": "stdout",
     "output_type": "stream",
     "text": [
      "[(0, 'PYTHON'), (1, 'JAVA'), (2, 'PHP')]\n",
      "0 -> PYTHON\n",
      "1 -> JAVA\n",
      "2 -> PHP\n",
      "Enter a choice : (1-3)2\n",
      "You have chosen : PHP\n"
     ]
    }
   ],
   "source": [
    "a = ['PYTHON','JAVA','PHP']\n",
    "print(list(enumerate(a)))\n",
    "for i,v in enumerate(a):\n",
    "    print(i,'->',v)\n",
    "usr = int(input(\"Enter a choice : (1-3)\"))\n",
    "\n",
    "print('You have chosen :',a[usr])"
   ]
  },
  {
   "cell_type": "code",
   "execution_count": 43,
   "metadata": {},
   "outputs": [
    {
     "name": "stdout",
     "output_type": "stream",
     "text": [
      "3\n",
      "3.5\n",
      "33\n",
      "3.2\n"
     ]
    }
   ],
   "source": [
    "# To Get absolute value  means without negative\n",
    "print(abs(-3))\n",
    "print(abs(-3.5))\n",
    "print(abs(33))\n",
    "print(abs(3.2))"
   ]
  },
  {
   "cell_type": "code",
   "execution_count": 44,
   "metadata": {},
   "outputs": [
    {
     "name": "stdout",
     "output_type": "stream",
     "text": [
      "7.8\n"
     ]
    }
   ],
   "source": [
    "print(abs(3.2-11))"
   ]
  },
  {
   "cell_type": "code",
   "execution_count": null,
   "metadata": {},
   "outputs": [],
   "source": [
    "help(any)\n",
    "help(all)"
   ]
  },
  {
   "cell_type": "code",
   "execution_count": 47,
   "metadata": {},
   "outputs": [
    {
     "name": "stdout",
     "output_type": "stream",
     "text": [
      "False\n",
      "False\n"
     ]
    }
   ],
   "source": [
    "a = [0,0]\n",
    "print(any(a))\n",
    "print(all(a))"
   ]
  },
  {
   "cell_type": "code",
   "execution_count": 48,
   "metadata": {},
   "outputs": [
    {
     "name": "stdout",
     "output_type": "stream",
     "text": [
      "True\n",
      "True\n"
     ]
    }
   ],
   "source": [
    "a = [-1,-1,-1]\n",
    "print(any(a))\n",
    "print(all(a))"
   ]
  },
  {
   "cell_type": "code",
   "execution_count": 49,
   "metadata": {
    "scrolled": true
   },
   "outputs": [
    {
     "name": "stdout",
     "output_type": "stream",
     "text": [
      "True\n",
      "False\n",
      "True\n",
      "True\n"
     ]
    }
   ],
   "source": [
    "\n",
    "a = [0,1,2,2,1,0]\n",
    "print(any(a))\n",
    "print(all(a))\n",
    "\n",
    "a = [-1,1,2,2,1,10]\n",
    "print(any(a))\n",
    "print(all(a))"
   ]
  },
  {
   "cell_type": "code",
   "execution_count": 50,
   "metadata": {},
   "outputs": [
    {
     "name": "stdout",
     "output_type": "stream",
     "text": [
      "False\n",
      "True\n"
     ]
    }
   ],
   "source": [
    "a=[]\n",
    "print(any(a))\n",
    "print(all(a))"
   ]
  },
  {
   "cell_type": "code",
   "execution_count": 16,
   "metadata": {
    "scrolled": true
   },
   "outputs": [
    {
     "name": "stdout",
     "output_type": "stream",
     "text": [
      "9\n",
      "0b1001 <class 'str'>\n",
      "1001\n",
      "ulta :  1001\n",
      "Palindrom\n"
     ]
    }
   ],
   "source": [
    "a = 9\n",
    "print(a)\n",
    "b = bin(a)\n",
    "print(b,type(b))\n",
    "c=b[2:]\n",
    "print(c)\n",
    "print(\"ulta : \",c[::-1])\n",
    "if c == c[::-1]:\n",
    "    print(\"Palindrom\")\n",
    "else :\n",
    "    print(\"N0t Palindom\")"
   ]
  },
  {
   "cell_type": "code",
   "execution_count": 59,
   "metadata": {},
   "outputs": [
    {
     "name": "stdout",
     "output_type": "stream",
     "text": [
      "12221\n",
      "12221\n",
      "Its a Palindrom\n"
     ]
    }
   ],
   "source": [
    "# palindrome 11,22, eye,\n",
    "n=int(input())\n",
    "\n",
    "ulta = int(str(n)[::-1])\n",
    "print(ulta)\n",
    "if n == ulta :\n",
    "    print(\"Its a Palindrom\")\n",
    "else:\n",
    "    print(\"Its  Not a Palindrom\")"
   ]
  },
  {
   "cell_type": "code",
   "execution_count": 69,
   "metadata": {},
   "outputs": [
    {
     "name": "stdout",
     "output_type": "stream",
     "text": [
      "5\n",
      "101\n",
      "101\n",
      "Its binary is a Palindrom\n"
     ]
    }
   ],
   "source": [
    "# palindrome 11,22, eye,\n",
    "n=int(input())\n",
    "b=bin(n)[2:]\n",
    "print(b)\n",
    "ulta = b[::-1]\n",
    "print(ulta)\n",
    "if b == ulta:\n",
    "    print(\"Its binary is a Palindrom\")\n",
    "else:\n",
    "    print(\"Its binary is Not a Palindrom\")"
   ]
  },
  {
   "cell_type": "markdown",
   "metadata": {},
   "source": [
    "## Activity\n",
    "\n",
    "A numeral palindrome is a number that remains the same when its digits are reversed\n",
    "1. Form a list of all numbers between 1 and 100 which are palindrome.\n",
    "\n",
    "2. Form a list of all numbers between 1 and 100 which are palindrome as well as their binary is also a palindrome"
   ]
  },
  {
   "cell_type": "code",
   "execution_count": null,
   "metadata": {},
   "outputs": [],
   "source": [
    "a=233\n",
    "b=str(a)[::-1]\n",
    "b=int(b)\n",
    "b"
   ]
  },
  {
   "cell_type": "code",
   "execution_count": null,
   "metadata": {},
   "outputs": [],
   "source": [
    "a=23\n",
    "if a==int(str(a)[::-1]):\n",
    "    print(\"Palindrom\")\n",
    "else:\n",
    "    print(\"not\")"
   ]
  },
  {
   "cell_type": "code",
   "execution_count": null,
   "metadata": {},
   "outputs": [],
   "source": [
    "# 1.\n",
    "\n",
    "low = 1\n",
    "high = 100\n",
    "a = []\n",
    "\n",
    "for n in range(low,high+1):\n",
    "    if n == int(str(n)[::-1]):\n",
    "        a.append(n)\n",
    "print(a)"
   ]
  },
  {
   "cell_type": "code",
   "execution_count": null,
   "metadata": {},
   "outputs": [],
   "source": [
    "bin(5)[2:]"
   ]
  },
  {
   "cell_type": "code",
   "execution_count": 19,
   "metadata": {},
   "outputs": [
    {
     "data": {
      "text/plain": [
       "['binary of 1 is 1 and Its a Palindrom',\n",
       " 'binary of 3 is 11 and Its a Palindrom',\n",
       " 'binary of 5 is 101 and Its a Palindrom',\n",
       " 'binary of 7 is 111 and Its a Palindrom',\n",
       " 'binary of 9 is 1001 and Its a Palindrom',\n",
       " 'binary of 15 is 1111 and Its a Palindrom',\n",
       " 'binary of 17 is 10001 and Its a Palindrom',\n",
       " 'binary of 21 is 10101 and Its a Palindrom',\n",
       " 'binary of 27 is 11011 and Its a Palindrom',\n",
       " 'binary of 31 is 11111 and Its a Palindrom',\n",
       " 'binary of 33 is 100001 and Its a Palindrom',\n",
       " 'binary of 45 is 101101 and Its a Palindrom',\n",
       " 'binary of 51 is 110011 and Its a Palindrom',\n",
       " 'binary of 63 is 111111 and Its a Palindrom',\n",
       " 'binary of 65 is 1000001 and Its a Palindrom',\n",
       " 'binary of 73 is 1001001 and Its a Palindrom',\n",
       " 'binary of 85 is 1010101 and Its a Palindrom',\n",
       " 'binary of 93 is 1011101 and Its a Palindrom',\n",
       " 'binary of 99 is 1100011 and Its a Palindrom']"
      ]
     },
     "execution_count": 19,
     "metadata": {},
     "output_type": "execute_result"
    }
   ],
   "source": [
    "# binary is palindrome .\n",
    "low = 1\n",
    "high = 100\n",
    "a = []\n",
    "for i in range(low,high+1):\n",
    "    b=bin(i)[2:]\n",
    "    if b==b[::-1]:\n",
    "        a.append(f\"binary of {i} is {b} and Its a Palindrom\")\n",
    "a"
   ]
  },
  {
   "cell_type": "code",
   "execution_count": 20,
   "metadata": {},
   "outputs": [
    {
     "name": "stdout",
     "output_type": "stream",
     "text": [
      " bin of 1 is 1\n",
      " bin of 3 is 11\n",
      " bin of 5 is 101\n",
      " bin of 7 is 111\n",
      " bin of 9 is 1001\n",
      " bin of 33 is 100001\n",
      " bin of 99 is 1100011\n",
      "\n",
      "[1, 3, 5, 7, 9, 33, 99]\n"
     ]
    }
   ],
   "source": [
    "# List out all palidrome in given range. Make sure their binary is also\n",
    "# a palindrome\n",
    "low = 1\n",
    "high = 100\n",
    "a = []\n",
    "for n in range(low,high+1):\n",
    "    b=bin(n)[2:]\n",
    "    if n == int(str(n)[::-1]) and b==b[::-1] :\n",
    "        a.append(n)\n",
    "        print(f\" bin of {n} is {b}\")\n",
    "\n",
    "print()        \n",
    "print(a)"
   ]
  },
  {
   "cell_type": "code",
   "execution_count": null,
   "metadata": {},
   "outputs": [],
   "source": [
    "# List out all palidrome in given range. Make sure their binary is also\n",
    "# a palindrome\n",
    "low = 1\n",
    "high = 100\n",
    "a = []\n",
    "\n",
    "for n in range(low,high+1):\n",
    "    if n != int(str(n)[::-1]):\n",
    "        continue\n",
    "    b = bin(n)[2:]\n",
    "    if b == b[::-1]:\n",
    "        a.append(n)\n",
    "print(a)"
   ]
  },
  {
   "cell_type": "code",
   "execution_count": null,
   "metadata": {},
   "outputs": [],
   "source": [
    "print(bin(9))"
   ]
  },
  {
   "cell_type": "code",
   "execution_count": null,
   "metadata": {},
   "outputs": [],
   "source": [
    "help(map)"
   ]
  },
  {
   "cell_type": "code",
   "execution_count": null,
   "metadata": {},
   "outputs": [],
   "source": [
    "# Modifying a list of numerical string to integers"
   ]
  },
  {
   "cell_type": "code",
   "execution_count": 21,
   "metadata": {},
   "outputs": [
    {
     "name": "stdout",
     "output_type": "stream",
     "text": [
      "['1', '2', '3', '4']\n",
      "[1, 2, 3, 4]\n"
     ]
    }
   ],
   "source": [
    "# Using For loop\n",
    "a = ['1','2','3','4']\n",
    "print(a)\n",
    "for i in range(len(a)):\n",
    "    a[i] = int(a[i])\n",
    "print(a)"
   ]
  },
  {
   "cell_type": "code",
   "execution_count": null,
   "metadata": {},
   "outputs": [],
   "source": [
    "# Using List Comprehension\n",
    "a = ['1','2','3','4']\n",
    "print(a,id(a))\n",
    "a = [int(i) for i in a]\n",
    "print(a,id(a))"
   ]
  },
  {
   "cell_type": "code",
   "execution_count": 23,
   "metadata": {},
   "outputs": [
    {
     "name": "stdout",
     "output_type": "stream",
     "text": [
      "Help on class map in module builtins:\n",
      "\n",
      "class map(object)\n",
      " |  map(func, *iterables) --> map object\n",
      " |  \n",
      " |  Make an iterator that computes the function using arguments from\n",
      " |  each of the iterables.  Stops when the shortest iterable is exhausted.\n",
      " |  \n",
      " |  Methods defined here:\n",
      " |  \n",
      " |  __getattribute__(self, name, /)\n",
      " |      Return getattr(self, name).\n",
      " |  \n",
      " |  __iter__(self, /)\n",
      " |      Implement iter(self).\n",
      " |  \n",
      " |  __next__(self, /)\n",
      " |      Implement next(self).\n",
      " |  \n",
      " |  __reduce__(...)\n",
      " |      Return state information for pickling.\n",
      " |  \n",
      " |  ----------------------------------------------------------------------\n",
      " |  Static methods defined here:\n",
      " |  \n",
      " |  __new__(*args, **kwargs) from builtins.type\n",
      " |      Create and return a new object.  See help(type) for accurate signature.\n",
      "\n"
     ]
    }
   ],
   "source": [
    "help(map)"
   ]
  },
  {
   "cell_type": "code",
   "execution_count": 24,
   "metadata": {},
   "outputs": [
    {
     "name": "stdout",
     "output_type": "stream",
     "text": [
      "['1', '2', '3', '4'] 2020284272192\n",
      "[1, 2, 3, 4] 2020284787072\n"
     ]
    }
   ],
   "source": [
    "# Using Map Function\n",
    "a = ['1','2','3','4']\n",
    "print(a,id(a))\n",
    "a = list(map(int,a))\n",
    "print(a,id(a))"
   ]
  },
  {
   "cell_type": "code",
   "execution_count": 25,
   "metadata": {},
   "outputs": [
    {
     "data": {
      "text/plain": [
       "[6, 4, 3]"
      ]
     },
     "execution_count": 25,
     "metadata": {},
     "output_type": "execute_result"
    }
   ],
   "source": [
    "a = ['PYTHON','JAVA','PHP']\n",
    "l=[]\n",
    "for i in a:\n",
    "    l.append(len(i))\n",
    "l"
   ]
  },
  {
   "cell_type": "code",
   "execution_count": 26,
   "metadata": {},
   "outputs": [
    {
     "data": {
      "text/plain": [
       "[6, 4, 3]"
      ]
     },
     "execution_count": 26,
     "metadata": {},
     "output_type": "execute_result"
    }
   ],
   "source": [
    "l=[len(i) for i in a]\n",
    "l"
   ]
  },
  {
   "cell_type": "code",
   "execution_count": 28,
   "metadata": {},
   "outputs": [
    {
     "name": "stdout",
     "output_type": "stream",
     "text": [
      "['PYTHON', 'JAVA', 'PHP']\n",
      "(6, 4, 3)\n"
     ]
    }
   ],
   "source": [
    "# Another Example of map function\n",
    "a = ['PYTHON','JAVA','PHP']\n",
    "print(a)\n",
    "b = tuple(map(len,a))\n",
    "print(b)"
   ]
  },
  {
   "cell_type": "code",
   "execution_count": null,
   "metadata": {},
   "outputs": [],
   "source": [
    "l=[len(i) for i in a]\n",
    "l"
   ]
  },
  {
   "cell_type": "code",
   "execution_count": 30,
   "metadata": {},
   "outputs": [
    {
     "name": "stdout",
     "output_type": "stream",
     "text": [
      "['python', 'java', 'php']\n",
      "['PYTHON', 'JAVA', 'PHP']\n"
     ]
    }
   ],
   "source": [
    "# 1\n",
    "a = ['PYthON','javA','PHP']\n",
    "lower=[]\n",
    "upper=[]\n",
    "for i in a:\n",
    "    lower.append(i.lower())\n",
    "    upper.append(i.upper())\n",
    "print(lower)\n",
    "print(upper)"
   ]
  },
  {
   "cell_type": "code",
   "execution_count": 31,
   "metadata": {},
   "outputs": [
    {
     "name": "stdout",
     "output_type": "stream",
     "text": [
      "['python', 'java', 'php']\n",
      "['PYTHON', 'JAVA', 'PHP']\n"
     ]
    }
   ],
   "source": [
    "# 1\n",
    "a = ['PYthON','javA','PHP']\n",
    "lower=[]\n",
    "upper=[]\n",
    "for i in range(len(a)):\n",
    "    lower.append(a[i].lower())\n",
    "    upper.append(a[i].upper())\n",
    "print(lower)\n",
    "print(upper)"
   ]
  },
  {
   "cell_type": "code",
   "execution_count": 32,
   "metadata": {},
   "outputs": [
    {
     "name": "stdout",
     "output_type": "stream",
     "text": [
      "['python', 'java', 'php']\n",
      "['PYTHON', 'JAVA', 'PHP']\n"
     ]
    }
   ],
   "source": [
    "# LC\n",
    "a = ['PYthON','javA','PHP']\n",
    "lower = [i.lower() for i in a]\n",
    "print(lower)\n",
    "loupperwer = [i.upper() for i in a]\n",
    "print(upper)"
   ]
  },
  {
   "cell_type": "code",
   "execution_count": null,
   "metadata": {},
   "outputs": [],
   "source": []
  },
  {
   "cell_type": "code",
   "execution_count": 33,
   "metadata": {},
   "outputs": [
    {
     "name": "stdout",
     "output_type": "stream",
     "text": [
      "['PYthON', 'javA', 'PHP']\n",
      "['python', 'java', 'php']\n",
      "['PYTHON', 'JAVA', 'PHP']\n"
     ]
    }
   ],
   "source": [
    "a = ['PYthON','javA','PHP']\n",
    "print(a)\n",
    "b = list(map(str.lower,a))\n",
    "print(b)\n",
    "b = list(map(str.upper,a))\n",
    "print(b)"
   ]
  },
  {
   "cell_type": "code",
   "execution_count": null,
   "metadata": {},
   "outputs": [],
   "source": [
    "l=[i.lower() for i in a]\n",
    "l"
   ]
  },
  {
   "cell_type": "code",
   "execution_count": null,
   "metadata": {
    "scrolled": true
   },
   "outputs": [],
   "source": [
    "help(filter)"
   ]
  },
  {
   "cell_type": "code",
   "execution_count": null,
   "metadata": {},
   "outputs": [],
   "source": [
    "a=range(10)\n",
    "l=list(filter())"
   ]
  },
  {
   "cell_type": "code",
   "execution_count": 2,
   "metadata": {},
   "outputs": [
    {
     "name": "stdout",
     "output_type": "stream",
     "text": [
      "['HE', '', 'O']\n",
      "['HE', 'O']\n"
     ]
    }
   ],
   "source": [
    "a = 'HELLO'.split('L')\n",
    "print(a)\n",
    "b = list(filter(len,a))\n",
    "print(b)"
   ]
  },
  {
   "cell_type": "code",
   "execution_count": 3,
   "metadata": {},
   "outputs": [
    {
     "data": {
      "text/plain": [
       "[2, 0, 1]"
      ]
     },
     "execution_count": 3,
     "metadata": {},
     "output_type": "execute_result"
    }
   ],
   "source": [
    "b = list(map(len,a))\n",
    "b"
   ]
  },
  {
   "cell_type": "code",
   "execution_count": null,
   "metadata": {},
   "outputs": [],
   "source": [
    "a = 'THIS      IS   AN EXAMPLE'\n",
    "b = a.split()\n",
    "print(b)\n",
    "c = a.split(' ')\n",
    "print(c)\n",
    "c = list(filter(len,a.split(' ')))\n",
    "print(c)"
   ]
  },
  {
   "cell_type": "markdown",
   "metadata": {},
   "source": [
    "Note: We will revisit map and filter function while finishng up user defined functions"
   ]
  },
  {
   "cell_type": "code",
   "execution_count": null,
   "metadata": {},
   "outputs": [],
   "source": []
  }
 ],
 "metadata": {
  "kernelspec": {
   "display_name": "Python 3",
   "language": "python",
   "name": "python3"
  },
  "language_info": {
   "codemirror_mode": {
    "name": "ipython",
    "version": 3
   },
   "file_extension": ".py",
   "mimetype": "text/x-python",
   "name": "python",
   "nbconvert_exporter": "python",
   "pygments_lexer": "ipython3",
   "version": "3.9.5"
  }
 },
 "nbformat": 4,
 "nbformat_minor": 2
}
